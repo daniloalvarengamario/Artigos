{
 "cells": [
  {
   "cell_type": "code",
   "execution_count": 21,
   "id": "e86c2a34-d582-4664-911c-610d9ddaa080",
   "metadata": {},
   "outputs": [
    {
     "name": "stderr",
     "output_type": "stream",
     "text": [
      "C:\\Users\\DANILO~1.MAR\\AppData\\Local\\Temp/ipykernel_11852/38591692.py:18: DeprecationWarning: executable_path has been deprecated, please pass in a Service object\n",
      "  driver = webdriver.Chrome(path+'\\\\chromedriver.exe', options=options)\n"
     ]
    }
   ],
   "source": [
    "import pandas as pd\n",
    "import numpy as np\n",
    "import matplotlib.pyplot as plt\n",
    "import folium\n",
    "import mysql.connector as mysql\n",
    "import json\n",
    "import io\n",
    "import datetime\n",
    "import os\n",
    "from PIL import Image\n",
    "from folium.plugins import FastMarkerCluster\n",
    "from selenium import webdriver\n",
    "from time import sleep\n",
    "\n",
    "path = os.getcwd()\n",
    "options = webdriver.ChromeOptions()\n",
    "options.add_argument('--headless')\n",
    "driver = webdriver.Chrome(path+'\\\\chromedriver.exe', options=options)\n"
   ]
  },
  {
   "cell_type": "code",
   "execution_count": 13,
   "id": "bb6bb613-6a2d-4445-a1dc-01878c93bff3",
   "metadata": {},
   "outputs": [],
   "source": [
    "# consulta do mapa de escolas\n",
    "geo_escolas = '''\n",
    "        select \n",
    "\tconcat(tpi.tpi_descricao, ' ', ins.ins_nome) as nome_escola\n",
    "    , aep.aep_descricao as etapa_escolar\n",
    "\t, ende.enc_latitude as latitude\n",
    "\t, ende.enc_longitude as longitude\n",
    "    , ins.ins_id\n",
    "from\n",
    "\tacademico.aep_anoEscolarPadrao as aep\n",
    "\tjoin\n",
    "\t\tacademico.ins_instituicao as ins\n",
    "\t\t\ton ins.ins_id = aep.ins_id\n",
    "\tjoin\n",
    "\t\tacademico.pel_periodoLetivo as pel\n",
    "\t\t\ton pel.pel_id = aep.pel_id\n",
    "\tjoin\n",
    "\t\tacademico.tpi_tipoInstituicao as tpi\n",
    "\t\t\ton tpi.tpi_id = ins.tpi_id\n",
    "\tjoin\n",
    "\t\tacademico.enc_enderecoinstituicao as ende\n",
    "\t\t\ton ins.ins_id = ende.ins_id\n",
    "where\n",
    "\tpel.pel_anoVigente = 2022\n",
    "    and aep.aep_descricao in('MATERNAL', 'MINI MATERNAL', 'JARDIM I', 'JARDIM II', 'BERÇÁRIO');\n",
    "            '''\n",
    "\n",
    "alunos = '''\n",
    "    select DISTINCT\n",
    "\tins.ses_descricao as etapa_escolar\n",
    "\t, acadEnd.end_latitude as latitude\n",
    "\t, acadEnd.end_longitude as longitude\n",
    "\t, ins.ins_id \n",
    "from\n",
    "\tssv.ins_inscricao as ins\n",
    "\tjoin\n",
    "\t\tssv.pss_pessoa as pss\n",
    "\t\t\ton pss.pss_id = ins.pss_id_crianca\n",
    "\tjoin\n",
    "\t\tssv.end_endereco as ssvEnd\n",
    "\t\t\ton ssvEnd.end_id = pss.end_id\n",
    "\tleft join\n",
    "\t\tacademico.end_endereco as acadEnd\n",
    "\t\t\ton ssvEnd.end_idAcademico = acadEnd.end_id\n",
    "\tjoin\n",
    "\t\tssv.cfv_configuracaoVagas as cfg\n",
    "\t\t\ton cfg.cfg_id = ins.cfg_id\n",
    "where\n",
    "\tcfg.cfg_anoMatricula = 2022\n",
    "\tand acadEnd.end_latitude is not null\n",
    ";\n",
    "'''\n",
    "\n",
    "opcao_escola = '''\n",
    "    select\n",
    "\tope.ins_id\n",
    "\t, ope.ope_instituicaoId \n",
    "from\n",
    "\tssv.ope_opcaoEscola ope\n",
    "\tjoin\n",
    "\t\t(select ins_id, max(ope_id) as ope_id from ssv.ope_opcaoEscola where ope_numeroOpcao = 1 and ope_ativo = 1 group by ins_id) opc\n",
    "\t\t\ton opc.ope_id = ope.ope_id\n",
    "where\n",
    "\tope.ope_numeroOpcao = 1\n",
    "\t;\n",
    "'''\n",
    "\n",
    "qtd_vagas = '''\n",
    "\tselect\n",
    "    ins.ins_id\n",
    "    , aep.aep_descricao\n",
    "    , sum(tui.tui_maxAlunos) as qtd_vagas\n",
    "from\n",
    "    academico.tui_turmaInstituicao as tui\n",
    "    join\n",
    "        academico.aep_anoEscolarPadrao as aep\n",
    "        on aep.aep_id = tui.aep_id\n",
    "    join\n",
    "        academico.ins_instituicao as ins\n",
    "        on ins.ins_id = aep.ins_id\n",
    "    join\n",
    "        academico.pel_periodoLetivo as pel\n",
    "        on pel.pel_id = aep.pel_id\n",
    "where\n",
    "    pel.pel_anoVigente = 2022\n",
    "    and aep.aep_descricao in('MATERNAL', 'MINI MATERNAL', 'JARDIM I', 'JARDIM II', 'BERÇÁRIO')\n",
    "group by\n",
    "    ins.ins_id\n",
    "    , aep.aep_descricao;\n",
    "'''\n",
    "\n",
    "hst = \"52.15.209.136\"\n",
    "usr = \"bi\"\n",
    "passwd = 'fRQJILefuz7'\n",
    "    \n",
    "db = mysql.connect(\n",
    "    host = hst,\n",
    "    user = usr,\n",
    "    passwd = passwd,\n",
    "    charset ='utf8',\n",
    "    )\n",
    "\n",
    "cursor = db.cursor()\n",
    "cursor.execute(geo_escolas)\n",
    "data_escola = cursor.fetchall()\n",
    "cursor.execute(alunos)\n",
    "data_alunos = cursor.fetchall()\n",
    "cursor.execute(opcao_escola)\n",
    "data_opcao = cursor.fetchall()\n",
    "cursor.execute(qtd_vagas)\n",
    "data_qtd = cursor.fetchall()\n",
    "\n",
    "# df escola\n",
    "df_escola = []\n",
    "n_escola = 0\n",
    "for i in data_escola:\n",
    "    df_escola.append({\"escola\": i[0], \"latitude_escola\": i[2], \"longitude_escola\": i[3],\n",
    "        'id_escola': i[4]})\n",
    "    n_escola += 1\n",
    "df_escola = json.dumps(df_escola)\n",
    "df_escola = pd.read_json(df_escola)\n",
    "\n",
    "# df aluno\n",
    "df_aluno = []\n",
    "n_aluno = 0\n",
    "for i in data_alunos:\n",
    "    df_aluno.append({\"etapa\": i[0], \"latitude\": i[1], \"longitude\": i[2], 'id_inscricao': i[3],\n",
    "        'id_inscricao_controle': i[3]})\n",
    "    n_aluno += 1\n",
    "df_aluno = json.dumps(df_aluno)\n",
    "df_aluno = pd.read_json(df_aluno)\n",
    "\n",
    "# df opcao\n",
    "df_opcao = []\n",
    "for i in data_opcao:\n",
    "    df_opcao.append({'id_inscricao' : i[0], 'id_escola' : i[1]})\n",
    "df_opcao = json.dumps(df_opcao)\n",
    "df_opcao = pd.read_json(df_opcao)\n",
    "\n",
    "# df qtde vagas\n",
    "df_qtde = []\n",
    "for i in data_qtd:\n",
    "\tdf_qtde.append({'id_escola': i[0], 'etapa': i[1], 'qde_vagas': i[2]})\n",
    "df_qtde = json.dumps(df_qtde)\n",
    "df_qtde = pd.read_json(df_qtde)\n",
    "\n",
    "# join dos alunos com opção de escola\n",
    "df_pars = df_aluno.set_index('id_inscricao').join(df_opcao.set_index('id_inscricao'))\n",
    "\n",
    "# join dos alunos e opções com quantidade de vagas\n",
    "df_pars = pd.merge(df_pars, df_qtde, on=['id_escola', 'etapa'], how='left')\n",
    "\n",
    "# join dos alunos com escolas\n",
    "df = df_pars.set_index('id_escola').join(df_escola.set_index('id_escola'), on='id_escola')\n",
    "\n",
    "# removendo duplicados\n",
    "df = df.drop_duplicates()\n",
    "df = df.dropna()\n",
    "#cursor.close()\n"
   ]
  },
  {
   "cell_type": "code",
   "execution_count": 14,
   "id": "0a6fe186-c1b2-400d-b386-6e55242a5d09",
   "metadata": {},
   "outputs": [],
   "source": [
    "# df mapa escola\n",
    "mapa_escola = df[['escola', 'latitude_escola', 'longitude_escola']].drop_duplicates()\n",
    "n_escola = mapa_escola.count()[0]\n",
    "\n",
    "latitude_escola = mapa_escola.latitude_escola.values\n",
    "longitude_escola = mapa_escola.longitude_escola.values\n",
    "escola = mapa_escola.escola.values\n"
   ]
  },
  {
   "cell_type": "code",
   "execution_count": 15,
   "id": "d990030a-4445-4af8-ae8e-0b1bcf44c07f",
   "metadata": {},
   "outputs": [],
   "source": [
    "# df mapa aluno\n",
    "\n",
    "mapa_alunos = df[['id_inscricao_controle', 'latitude', 'longitude']].drop_duplicates()\n",
    "n_aluno = mapa_alunos.count()[0]\n",
    "\n",
    "latitude_aluno = mapa_alunos.latitude.values\n",
    "longitude_aluno = mapa_alunos.longitude.values\n",
    "aluno = mapa_alunos.id_inscricao_controle.values\n"
   ]
  },
  {
   "cell_type": "code",
   "execution_count": 16,
   "id": "48d6224b-38b4-4612-bf52-7343277fe473",
   "metadata": {},
   "outputs": [
    {
     "data": {
      "text/plain": [
       "True"
      ]
     },
     "execution_count": 16,
     "metadata": {},
     "output_type": "execute_result"
    }
   ],
   "source": [
    "# montagem do mapa de escolas\n",
    "ts = folium.Map(location=[-23.61957807914073, -46.78906836802145],\n",
    "                 zoom_start=14, zoom_control=False)\n",
    "\n",
    "for latitude, longitude, escola in zip(latitude_escola, longitude_escola, escola):\n",
    "    folium.Marker(location=[float(latitude), float(longitude)], popup=escola, icon=folium.Icon(color='blue',\n",
    "                                                                                              #,icon_color='blue'\n",
    "                                                                                               )).add_to(ts)\n",
    "ts.save('escolas.html')\n",
    "driver.get('file://'+path+'/escolas.html')\n",
    "sleep(4)\n",
    "driver.save_screenshot('escolas.png')"
   ]
  },
  {
   "cell_type": "code",
   "execution_count": 17,
   "id": "c96ab804-770a-4924-93a6-d1c85fe83545",
   "metadata": {},
   "outputs": [
    {
     "data": {
      "text/plain": [
       "True"
      ]
     },
     "execution_count": 17,
     "metadata": {},
     "output_type": "execute_result"
    }
   ],
   "source": [
    "# montagem do mapa com alunos\n",
    "latitude_escola = mapa_escola.latitude_escola.values\n",
    "longitude_escola = mapa_escola.longitude_escola.values\n",
    "escola = mapa_escola.escola.values\n",
    "\n",
    "\n",
    "ts_aluno = folium.Map(location=[-23.61957807914073, -46.78906836802145],\n",
    "                 zoom_start=14, zoom_control=False)\n",
    "\n",
    "for latitude, longitude, escola in zip(latitude_escola, longitude_escola, escola):\n",
    "    folium.Marker(location=[float(latitude), float(longitude)], popup=escola, icon=folium.Icon(color='blue',\n",
    "                                                                                              #,icon_color='blue'\n",
    "                                                                                              )).add_to(ts_aluno)\n",
    "\n",
    "ts_aluno.add_child(FastMarkerCluster(mapa_alunos[['latitude', 'longitude']]))\n",
    "\n",
    "ts_aluno.save('mapa_completo.html')\n",
    "driver.get('file://'+path+'/mapa_completo.html')\n",
    "sleep(4)\n",
    "driver.save_screenshot('mapa_completo.png')"
   ]
  },
  {
   "cell_type": "markdown",
   "id": "7139ddd5-84b5-4ddb-bac4-ae4447904024",
   "metadata": {},
   "source": [
    "<img  width=\"10%\" src=\"planneta.png\">\n",
    "\n",
    "# ANÁLISE DEMOGRÁFICA DE SOLICITAÇÃO DE VAGAS EM TABOÃO DA SERRA\n",
    "\n",
    "Este estudo visa demonstrar a distribuição das solicitações de vagas no município de Taboão da Serra, tendo como indicadores a **geolocalização dos alunos**, **geolocalização das escolas**, **etapa de ensino das vagas** e **quantitativo de solicitações**.\n",
    "\n",
    "O estudo foi feito utilizando toda a base de dados contida no sistema **Gestão Fácil** tendo como foco as etapas:\n",
    "\n",
    "* BERÇÁRIO\n",
    "* MINI MATERNAL\n",
    "* MATERNAL\n",
    "* JARDIM I\n",
    "* JARDIM II\n",
    "\n",
    "## Desenvolvimento\n",
    "\n",
    "Para iniciar o estudo, foi plotado no mapa, todas as instituições ativas no município para se ter uma visão macro da distribuição das escolas."
   ]
  },
  {
   "cell_type": "code",
   "execution_count": 18,
   "id": "7d54e245-2978-43c9-80c8-a360a0e61fd7",
   "metadata": {},
   "outputs": [
    {
     "name": "stdout",
     "output_type": "stream",
     "text": [
      "Ao todo, o município possúi 47 escolas ativas para o ano de 2022, que compreendem as etapas de ensino analisadas.\n"
     ]
    }
   ],
   "source": [
    "print(f\"Ao todo, o município possúi {n_escola} escolas ativas para o ano de {datetime.datetime.today().year + 1}, que compreendem as etapas de ensino analisadas.\")"
   ]
  },
  {
   "cell_type": "markdown",
   "id": "946ab076-657a-443a-982c-e9c1bbc1d263",
   "metadata": {},
   "source": [
    "<center><img width=\"80%\" src=\"escolas.png\"></center>"
   ]
  },
  {
   "cell_type": "markdown",
   "id": "c0b31c24-2178-42b2-8ad5-588f49bf2e01",
   "metadata": {},
   "source": [
    "Todas as escolas estão bem distribuídas ao longo do município o que faz com que seja necessário verificar a distribuição das solicitações de vaga de forma global.\n",
    "\n",
    "Para que a análise possa ser visualmente interpretada, foi gerado um mapa que mostra a distribuição das solicitações em meio às escolas."
   ]
  },
  {
   "cell_type": "code",
   "execution_count": 19,
   "id": "4822f68b-1e64-458a-b464-8edbe3cb7353",
   "metadata": {},
   "outputs": [
    {
     "name": "stdout",
     "output_type": "stream",
     "text": [
      "Ao todo, o município possui 3531 solicitações de vagas até o momento deste estudo.\n"
     ]
    }
   ],
   "source": [
    "print(f\"Ao todo, o município possui {n_aluno} solicitações de vagas até o momento deste estudo.\")"
   ]
  },
  {
   "cell_type": "markdown",
   "id": "78dbe83d-5965-45e0-9432-3a45ed4445ee",
   "metadata": {},
   "source": [
    "<center><img width=\"80%\" src=\"mapa_completo.png\"></center>"
   ]
  },
  {
   "cell_type": "markdown",
   "id": "593043fc-22c3-4c84-be4a-81ddd75119ba",
   "metadata": {},
   "source": [
    "> É possível observar que a relação da distribuição de escolas e solicitações de vagas no município apresenta equilíbrio dentro da visão global.\n",
    "\n",
    "A partir da distribuição global, uma análise mais detalhada por etapa de ensino seguirá.\n",
    "\n",
    "### Distribuição de vagas para Berçário\n",
    "\n",
    "O primeiro ponto a se observar, é a relação entre escolas que disponibilizam vagas para berçário e alunos que solicitam vagas nesta etapa de ensino."
   ]
  },
  {
   "cell_type": "code",
   "execution_count": 20,
   "id": "e583890c-0cb8-463a-a700-5ea08c40240e",
   "metadata": {},
   "outputs": [
    {
     "data": {
      "text/html": [
       "<div style=\"width:100%;\"><div style=\"position:relative;width:100%;height:0;padding-bottom:60%;\"><span style=\"color:#565656\">Make this Notebook Trusted to load map: File -> Trust Notebook</span><iframe src=\"about:blank\" style=\"position:absolute;width:100%;height:100%;left:0;top:0;border:none !important;\" data-html=%3C%21DOCTYPE%20html%3E%0A%3Chead%3E%20%20%20%20%0A%20%20%20%20%3Cmeta%20http-equiv%3D%22content-type%22%20content%3D%22text/html%3B%20charset%3DUTF-8%22%20/%3E%0A%20%20%20%20%0A%20%20%20%20%20%20%20%20%3Cscript%3E%0A%20%20%20%20%20%20%20%20%20%20%20%20L_NO_TOUCH%20%3D%20false%3B%0A%20%20%20%20%20%20%20%20%20%20%20%20L_DISABLE_3D%20%3D%20false%3B%0A%20%20%20%20%20%20%20%20%3C/script%3E%0A%20%20%20%20%0A%20%20%20%20%3Cstyle%3Ehtml%2C%20body%20%7Bwidth%3A%20100%25%3Bheight%3A%20100%25%3Bmargin%3A%200%3Bpadding%3A%200%3B%7D%3C/style%3E%0A%20%20%20%20%3Cstyle%3E%23map%20%7Bposition%3Aabsolute%3Btop%3A0%3Bbottom%3A0%3Bright%3A0%3Bleft%3A0%3B%7D%3C/style%3E%0A%20%20%20%20%3Cscript%20src%3D%22https%3A//cdn.jsdelivr.net/npm/leaflet%401.6.0/dist/leaflet.js%22%3E%3C/script%3E%0A%20%20%20%20%3Cscript%20src%3D%22https%3A//code.jquery.com/jquery-1.12.4.min.js%22%3E%3C/script%3E%0A%20%20%20%20%3Cscript%20src%3D%22https%3A//maxcdn.bootstrapcdn.com/bootstrap/3.2.0/js/bootstrap.min.js%22%3E%3C/script%3E%0A%20%20%20%20%3Cscript%20src%3D%22https%3A//cdnjs.cloudflare.com/ajax/libs/Leaflet.awesome-markers/2.0.2/leaflet.awesome-markers.js%22%3E%3C/script%3E%0A%20%20%20%20%3Clink%20rel%3D%22stylesheet%22%20href%3D%22https%3A//cdn.jsdelivr.net/npm/leaflet%401.6.0/dist/leaflet.css%22/%3E%0A%20%20%20%20%3Clink%20rel%3D%22stylesheet%22%20href%3D%22https%3A//maxcdn.bootstrapcdn.com/bootstrap/3.2.0/css/bootstrap.min.css%22/%3E%0A%20%20%20%20%3Clink%20rel%3D%22stylesheet%22%20href%3D%22https%3A//maxcdn.bootstrapcdn.com/bootstrap/3.2.0/css/bootstrap-theme.min.css%22/%3E%0A%20%20%20%20%3Clink%20rel%3D%22stylesheet%22%20href%3D%22https%3A//maxcdn.bootstrapcdn.com/font-awesome/4.6.3/css/font-awesome.min.css%22/%3E%0A%20%20%20%20%3Clink%20rel%3D%22stylesheet%22%20href%3D%22https%3A//cdnjs.cloudflare.com/ajax/libs/Leaflet.awesome-markers/2.0.2/leaflet.awesome-markers.css%22/%3E%0A%20%20%20%20%3Clink%20rel%3D%22stylesheet%22%20href%3D%22https%3A//cdn.jsdelivr.net/gh/python-visualization/folium/folium/templates/leaflet.awesome.rotate.min.css%22/%3E%0A%20%20%20%20%0A%20%20%20%20%20%20%20%20%20%20%20%20%3Cmeta%20name%3D%22viewport%22%20content%3D%22width%3Ddevice-width%2C%0A%20%20%20%20%20%20%20%20%20%20%20%20%20%20%20%20initial-scale%3D1.0%2C%20maximum-scale%3D1.0%2C%20user-scalable%3Dno%22%20/%3E%0A%20%20%20%20%20%20%20%20%20%20%20%20%3Cstyle%3E%0A%20%20%20%20%20%20%20%20%20%20%20%20%20%20%20%20%23map_bb93505c135c46a2bc618588563c786e%20%7B%0A%20%20%20%20%20%20%20%20%20%20%20%20%20%20%20%20%20%20%20%20position%3A%20relative%3B%0A%20%20%20%20%20%20%20%20%20%20%20%20%20%20%20%20%20%20%20%20width%3A%20100.0%25%3B%0A%20%20%20%20%20%20%20%20%20%20%20%20%20%20%20%20%20%20%20%20height%3A%20100.0%25%3B%0A%20%20%20%20%20%20%20%20%20%20%20%20%20%20%20%20%20%20%20%20left%3A%200.0%25%3B%0A%20%20%20%20%20%20%20%20%20%20%20%20%20%20%20%20%20%20%20%20top%3A%200.0%25%3B%0A%20%20%20%20%20%20%20%20%20%20%20%20%20%20%20%20%7D%0A%20%20%20%20%20%20%20%20%20%20%20%20%3C/style%3E%0A%20%20%20%20%20%20%20%20%0A%20%20%20%20%3Cscript%20src%3D%22https%3A//cdnjs.cloudflare.com/ajax/libs/leaflet.markercluster/1.1.0/leaflet.markercluster.js%22%3E%3C/script%3E%0A%20%20%20%20%3Clink%20rel%3D%22stylesheet%22%20href%3D%22https%3A//cdnjs.cloudflare.com/ajax/libs/leaflet.markercluster/1.1.0/MarkerCluster.css%22/%3E%0A%20%20%20%20%3Clink%20rel%3D%22stylesheet%22%20href%3D%22https%3A//cdnjs.cloudflare.com/ajax/libs/leaflet.markercluster/1.1.0/MarkerCluster.Default.css%22/%3E%0A%3C/head%3E%0A%3Cbody%3E%20%20%20%20%0A%20%20%20%20%0A%20%20%20%20%20%20%20%20%20%20%20%20%3Cdiv%20class%3D%22folium-map%22%20id%3D%22map_bb93505c135c46a2bc618588563c786e%22%20%3E%3C/div%3E%0A%20%20%20%20%20%20%20%20%0A%3C/body%3E%0A%3Cscript%3E%20%20%20%20%0A%20%20%20%20%0A%20%20%20%20%20%20%20%20%20%20%20%20var%20map_bb93505c135c46a2bc618588563c786e%20%3D%20L.map%28%0A%20%20%20%20%20%20%20%20%20%20%20%20%20%20%20%20%22map_bb93505c135c46a2bc618588563c786e%22%2C%0A%20%20%20%20%20%20%20%20%20%20%20%20%20%20%20%20%7B%0A%20%20%20%20%20%20%20%20%20%20%20%20%20%20%20%20%20%20%20%20center%3A%20%5B-23.61957807914073%2C%20-46.78906836802145%5D%2C%0A%20%20%20%20%20%20%20%20%20%20%20%20%20%20%20%20%20%20%20%20crs%3A%20L.CRS.EPSG3857%2C%0A%20%20%20%20%20%20%20%20%20%20%20%20%20%20%20%20%20%20%20%20zoom%3A%2014%2C%0A%20%20%20%20%20%20%20%20%20%20%20%20%20%20%20%20%20%20%20%20zoomControl%3A%20false%2C%0A%20%20%20%20%20%20%20%20%20%20%20%20%20%20%20%20%20%20%20%20preferCanvas%3A%20false%2C%0A%20%20%20%20%20%20%20%20%20%20%20%20%20%20%20%20%7D%0A%20%20%20%20%20%20%20%20%20%20%20%20%29%3B%0A%0A%20%20%20%20%20%20%20%20%20%20%20%20%0A%0A%20%20%20%20%20%20%20%20%0A%20%20%20%20%0A%20%20%20%20%20%20%20%20%20%20%20%20var%20tile_layer_ad8b61e7fc62498588bba4868c1360b3%20%3D%20L.tileLayer%28%0A%20%20%20%20%20%20%20%20%20%20%20%20%20%20%20%20%22https%3A//%7Bs%7D.tile.openstreetmap.org/%7Bz%7D/%7Bx%7D/%7By%7D.png%22%2C%0A%20%20%20%20%20%20%20%20%20%20%20%20%20%20%20%20%7B%22attribution%22%3A%20%22Data%20by%20%5Cu0026copy%3B%20%5Cu003ca%20href%3D%5C%22http%3A//openstreetmap.org%5C%22%5Cu003eOpenStreetMap%5Cu003c/a%5Cu003e%2C%20under%20%5Cu003ca%20href%3D%5C%22http%3A//www.openstreetmap.org/copyright%5C%22%5Cu003eODbL%5Cu003c/a%5Cu003e.%22%2C%20%22detectRetina%22%3A%20false%2C%20%22maxNativeZoom%22%3A%2018%2C%20%22maxZoom%22%3A%2018%2C%20%22minZoom%22%3A%200%2C%20%22noWrap%22%3A%20false%2C%20%22opacity%22%3A%201%2C%20%22subdomains%22%3A%20%22abc%22%2C%20%22tms%22%3A%20false%7D%0A%20%20%20%20%20%20%20%20%20%20%20%20%29.addTo%28map_bb93505c135c46a2bc618588563c786e%29%3B%0A%20%20%20%20%20%20%20%20%0A%20%20%20%20%0A%20%20%20%20%20%20%20%20%20%20%20%20var%20marker_eca3081095704bc6a483f0b0fc53bece%20%3D%20L.marker%28%0A%20%20%20%20%20%20%20%20%20%20%20%20%20%20%20%20%5B-23.6214498%2C%20-46.7986106%5D%2C%0A%20%20%20%20%20%20%20%20%20%20%20%20%20%20%20%20%7B%7D%0A%20%20%20%20%20%20%20%20%20%20%20%20%29.addTo%28map_bb93505c135c46a2bc618588563c786e%29%3B%0A%20%20%20%20%20%20%20%20%0A%20%20%20%20%0A%20%20%20%20%20%20%20%20%20%20%20%20var%20icon_c024f23bb7414eb38b8afb57262cbee5%20%3D%20L.AwesomeMarkers.icon%28%0A%20%20%20%20%20%20%20%20%20%20%20%20%20%20%20%20%7B%22extraClasses%22%3A%20%22fa-rotate-0%22%2C%20%22icon%22%3A%20%22info-sign%22%2C%20%22iconColor%22%3A%20%22white%22%2C%20%22markerColor%22%3A%20%22blue%22%2C%20%22prefix%22%3A%20%22glyphicon%22%7D%0A%20%20%20%20%20%20%20%20%20%20%20%20%29%3B%0A%20%20%20%20%20%20%20%20%20%20%20%20marker_eca3081095704bc6a483f0b0fc53bece.setIcon%28icon_c024f23bb7414eb38b8afb57262cbee5%29%3B%0A%20%20%20%20%20%20%20%20%0A%20%20%20%20%0A%20%20%20%20%20%20%20%20var%20popup_fbff03985b004e64b0b98afbb0191594%20%3D%20L.popup%28%7B%22maxWidth%22%3A%20%22100%25%22%7D%29%3B%0A%0A%20%20%20%20%20%20%20%20%0A%20%20%20%20%20%20%20%20%20%20%20%20var%20html_ca872a562d39465db3a2abe8bdb9e464%20%3D%20%24%28%60%3Cdiv%20id%3D%22html_ca872a562d39465db3a2abe8bdb9e464%22%20style%3D%22width%3A%20100.0%25%3B%20height%3A%20100.0%25%3B%22%3EEMI%20VISCONDE%20DE%20SABUGOSA%3C/div%3E%60%29%5B0%5D%3B%0A%20%20%20%20%20%20%20%20%20%20%20%20popup_fbff03985b004e64b0b98afbb0191594.setContent%28html_ca872a562d39465db3a2abe8bdb9e464%29%3B%0A%20%20%20%20%20%20%20%20%0A%0A%20%20%20%20%20%20%20%20marker_eca3081095704bc6a483f0b0fc53bece.bindPopup%28popup_fbff03985b004e64b0b98afbb0191594%29%0A%20%20%20%20%20%20%20%20%3B%0A%0A%20%20%20%20%20%20%20%20%0A%20%20%20%20%0A%20%20%20%20%0A%20%20%20%20%20%20%20%20%20%20%20%20var%20marker_6a26debe8e1e4a498077e33419faac71%20%3D%20L.marker%28%0A%20%20%20%20%20%20%20%20%20%20%20%20%20%20%20%20%5B-23.6400632%2C%20-46.7893523%5D%2C%0A%20%20%20%20%20%20%20%20%20%20%20%20%20%20%20%20%7B%7D%0A%20%20%20%20%20%20%20%20%20%20%20%20%29.addTo%28map_bb93505c135c46a2bc618588563c786e%29%3B%0A%20%20%20%20%20%20%20%20%0A%20%20%20%20%0A%20%20%20%20%20%20%20%20%20%20%20%20var%20icon_103900efb92446c59ab838bdb6006e8d%20%3D%20L.AwesomeMarkers.icon%28%0A%20%20%20%20%20%20%20%20%20%20%20%20%20%20%20%20%7B%22extraClasses%22%3A%20%22fa-rotate-0%22%2C%20%22icon%22%3A%20%22info-sign%22%2C%20%22iconColor%22%3A%20%22white%22%2C%20%22markerColor%22%3A%20%22blue%22%2C%20%22prefix%22%3A%20%22glyphicon%22%7D%0A%20%20%20%20%20%20%20%20%20%20%20%20%29%3B%0A%20%20%20%20%20%20%20%20%20%20%20%20marker_6a26debe8e1e4a498077e33419faac71.setIcon%28icon_103900efb92446c59ab838bdb6006e8d%29%3B%0A%20%20%20%20%20%20%20%20%0A%20%20%20%20%0A%20%20%20%20%20%20%20%20var%20popup_455808e01d104f82a234d06b49bd2474%20%3D%20L.popup%28%7B%22maxWidth%22%3A%20%22100%25%22%7D%29%3B%0A%0A%20%20%20%20%20%20%20%20%0A%20%20%20%20%20%20%20%20%20%20%20%20var%20html_df8b3a07aca64624a3e9f938f010eab9%20%3D%20%24%28%60%3Cdiv%20id%3D%22html_df8b3a07aca64624a3e9f938f010eab9%22%20style%3D%22width%3A%20100.0%25%3B%20height%3A%20100.0%25%3B%22%3EEMI%20DORINHA%3C/div%3E%60%29%5B0%5D%3B%0A%20%20%20%20%20%20%20%20%20%20%20%20popup_455808e01d104f82a234d06b49bd2474.setContent%28html_df8b3a07aca64624a3e9f938f010eab9%29%3B%0A%20%20%20%20%20%20%20%20%0A%0A%20%20%20%20%20%20%20%20marker_6a26debe8e1e4a498077e33419faac71.bindPopup%28popup_455808e01d104f82a234d06b49bd2474%29%0A%20%20%20%20%20%20%20%20%3B%0A%0A%20%20%20%20%20%20%20%20%0A%20%20%20%20%0A%20%20%20%20%0A%20%20%20%20%20%20%20%20%20%20%20%20var%20marker_827d647611e8465a8a5943e85fb15961%20%3D%20L.marker%28%0A%20%20%20%20%20%20%20%20%20%20%20%20%20%20%20%20%5B-23.6324105%2C%20-46.8032388%5D%2C%0A%20%20%20%20%20%20%20%20%20%20%20%20%20%20%20%20%7B%7D%0A%20%20%20%20%20%20%20%20%20%20%20%20%29.addTo%28map_bb93505c135c46a2bc618588563c786e%29%3B%0A%20%20%20%20%20%20%20%20%0A%20%20%20%20%0A%20%20%20%20%20%20%20%20%20%20%20%20var%20icon_d3c4360c57ca4d1eb84750a28f8219fd%20%3D%20L.AwesomeMarkers.icon%28%0A%20%20%20%20%20%20%20%20%20%20%20%20%20%20%20%20%7B%22extraClasses%22%3A%20%22fa-rotate-0%22%2C%20%22icon%22%3A%20%22info-sign%22%2C%20%22iconColor%22%3A%20%22white%22%2C%20%22markerColor%22%3A%20%22blue%22%2C%20%22prefix%22%3A%20%22glyphicon%22%7D%0A%20%20%20%20%20%20%20%20%20%20%20%20%29%3B%0A%20%20%20%20%20%20%20%20%20%20%20%20marker_827d647611e8465a8a5943e85fb15961.setIcon%28icon_d3c4360c57ca4d1eb84750a28f8219fd%29%3B%0A%20%20%20%20%20%20%20%20%0A%20%20%20%20%0A%20%20%20%20%20%20%20%20var%20popup_85d08b87f61448feb93b6dbf766fd18b%20%3D%20L.popup%28%7B%22maxWidth%22%3A%20%22100%25%22%7D%29%3B%0A%0A%20%20%20%20%20%20%20%20%0A%20%20%20%20%20%20%20%20%20%20%20%20var%20html_e52bf01091d3409ebc577168b9b6ae8c%20%3D%20%24%28%60%3Cdiv%20id%3D%22html_e52bf01091d3409ebc577168b9b6ae8c%22%20style%3D%22width%3A%20100.0%25%3B%20height%3A%20100.0%25%3B%22%3EPAC%20N%C3%9ACLEO%2022%20DE%20SETEMBRO%20/%20EMI%20CEBOLINHA%20%3C/div%3E%60%29%5B0%5D%3B%0A%20%20%20%20%20%20%20%20%20%20%20%20popup_85d08b87f61448feb93b6dbf766fd18b.setContent%28html_e52bf01091d3409ebc577168b9b6ae8c%29%3B%0A%20%20%20%20%20%20%20%20%0A%0A%20%20%20%20%20%20%20%20marker_827d647611e8465a8a5943e85fb15961.bindPopup%28popup_85d08b87f61448feb93b6dbf766fd18b%29%0A%20%20%20%20%20%20%20%20%3B%0A%0A%20%20%20%20%20%20%20%20%0A%20%20%20%20%0A%20%20%20%20%0A%20%20%20%20%20%20%20%20%20%20%20%20var%20marker_4f05ed959e4c4317976afd5cf93b4495%20%3D%20L.marker%28%0A%20%20%20%20%20%20%20%20%20%20%20%20%20%20%20%20%5B-23.6204513%2C%20-46.7837915%5D%2C%0A%20%20%20%20%20%20%20%20%20%20%20%20%20%20%20%20%7B%7D%0A%20%20%20%20%20%20%20%20%20%20%20%20%29.addTo%28map_bb93505c135c46a2bc618588563c786e%29%3B%0A%20%20%20%20%20%20%20%20%0A%20%20%20%20%0A%20%20%20%20%20%20%20%20%20%20%20%20var%20icon_fc532c48a5404b1f8ee127336575a6c1%20%3D%20L.AwesomeMarkers.icon%28%0A%20%20%20%20%20%20%20%20%20%20%20%20%20%20%20%20%7B%22extraClasses%22%3A%20%22fa-rotate-0%22%2C%20%22icon%22%3A%20%22info-sign%22%2C%20%22iconColor%22%3A%20%22white%22%2C%20%22markerColor%22%3A%20%22blue%22%2C%20%22prefix%22%3A%20%22glyphicon%22%7D%0A%20%20%20%20%20%20%20%20%20%20%20%20%29%3B%0A%20%20%20%20%20%20%20%20%20%20%20%20marker_4f05ed959e4c4317976afd5cf93b4495.setIcon%28icon_fc532c48a5404b1f8ee127336575a6c1%29%3B%0A%20%20%20%20%20%20%20%20%0A%20%20%20%20%0A%20%20%20%20%20%20%20%20var%20popup_5f947cf14af04946997fbfc1e13a3a3c%20%3D%20L.popup%28%7B%22maxWidth%22%3A%20%22100%25%22%7D%29%3B%0A%0A%20%20%20%20%20%20%20%20%0A%20%20%20%20%20%20%20%20%20%20%20%20var%20html_c5fe8b882df64f3289abccaabfc83c18%20%3D%20%24%28%60%3Cdiv%20id%3D%22html_c5fe8b882df64f3289abccaabfc83c18%22%20style%3D%22width%3A%20100.0%25%3B%20height%3A%20100.0%25%3B%22%3EEMI%20JUREMA%3C/div%3E%60%29%5B0%5D%3B%0A%20%20%20%20%20%20%20%20%20%20%20%20popup_5f947cf14af04946997fbfc1e13a3a3c.setContent%28html_c5fe8b882df64f3289abccaabfc83c18%29%3B%0A%20%20%20%20%20%20%20%20%0A%0A%20%20%20%20%20%20%20%20marker_4f05ed959e4c4317976afd5cf93b4495.bindPopup%28popup_5f947cf14af04946997fbfc1e13a3a3c%29%0A%20%20%20%20%20%20%20%20%3B%0A%0A%20%20%20%20%20%20%20%20%0A%20%20%20%20%0A%20%20%20%20%0A%20%20%20%20%20%20%20%20%20%20%20%20var%20marker_ff7a81d1fedc4481b0addda300b4c9a1%20%3D%20L.marker%28%0A%20%20%20%20%20%20%20%20%20%20%20%20%20%20%20%20%5B-23.6078519%2C%20-46.7533278%5D%2C%0A%20%20%20%20%20%20%20%20%20%20%20%20%20%20%20%20%7B%7D%0A%20%20%20%20%20%20%20%20%20%20%20%20%29.addTo%28map_bb93505c135c46a2bc618588563c786e%29%3B%0A%20%20%20%20%20%20%20%20%0A%20%20%20%20%0A%20%20%20%20%20%20%20%20%20%20%20%20var%20icon_3f3d20909e614d429fdcb28c0dc04367%20%3D%20L.AwesomeMarkers.icon%28%0A%20%20%20%20%20%20%20%20%20%20%20%20%20%20%20%20%7B%22extraClasses%22%3A%20%22fa-rotate-0%22%2C%20%22icon%22%3A%20%22info-sign%22%2C%20%22iconColor%22%3A%20%22white%22%2C%20%22markerColor%22%3A%20%22blue%22%2C%20%22prefix%22%3A%20%22glyphicon%22%7D%0A%20%20%20%20%20%20%20%20%20%20%20%20%29%3B%0A%20%20%20%20%20%20%20%20%20%20%20%20marker_ff7a81d1fedc4481b0addda300b4c9a1.setIcon%28icon_3f3d20909e614d429fdcb28c0dc04367%29%3B%0A%20%20%20%20%20%20%20%20%0A%20%20%20%20%0A%20%20%20%20%20%20%20%20var%20popup_f87fd8081baa43f19056ac3d3503fbf1%20%3D%20L.popup%28%7B%22maxWidth%22%3A%20%22100%25%22%7D%29%3B%0A%0A%20%20%20%20%20%20%20%20%0A%20%20%20%20%20%20%20%20%20%20%20%20var%20html_0d3e217ea03e484ba4165fdd386cc6cb%20%3D%20%24%28%60%3Cdiv%20id%3D%22html_0d3e217ea03e484ba4165fdd386cc6cb%22%20style%3D%22width%3A%20100.0%25%3B%20height%3A%20100.0%25%3B%22%3EPAC%20SANTA%20TEREZINHA%20II%20/%20EMEF%20ASAS%20BRANCAS%3C/div%3E%60%29%5B0%5D%3B%0A%20%20%20%20%20%20%20%20%20%20%20%20popup_f87fd8081baa43f19056ac3d3503fbf1.setContent%28html_0d3e217ea03e484ba4165fdd386cc6cb%29%3B%0A%20%20%20%20%20%20%20%20%0A%0A%20%20%20%20%20%20%20%20marker_ff7a81d1fedc4481b0addda300b4c9a1.bindPopup%28popup_f87fd8081baa43f19056ac3d3503fbf1%29%0A%20%20%20%20%20%20%20%20%3B%0A%0A%20%20%20%20%20%20%20%20%0A%20%20%20%20%0A%20%20%20%20%0A%20%20%20%20%20%20%20%20%20%20%20%20var%20marker_a26410df69894cc1af2aba0df0bbc7db%20%3D%20L.marker%28%0A%20%20%20%20%20%20%20%20%20%20%20%20%20%20%20%20%5B-23.6380597%2C%20-46.7941047%5D%2C%0A%20%20%20%20%20%20%20%20%20%20%20%20%20%20%20%20%7B%7D%0A%20%20%20%20%20%20%20%20%20%20%20%20%29.addTo%28map_bb93505c135c46a2bc618588563c786e%29%3B%0A%20%20%20%20%20%20%20%20%0A%20%20%20%20%0A%20%20%20%20%20%20%20%20%20%20%20%20var%20icon_e1f0a44996024564a57dd7e373bcdce6%20%3D%20L.AwesomeMarkers.icon%28%0A%20%20%20%20%20%20%20%20%20%20%20%20%20%20%20%20%7B%22extraClasses%22%3A%20%22fa-rotate-0%22%2C%20%22icon%22%3A%20%22info-sign%22%2C%20%22iconColor%22%3A%20%22white%22%2C%20%22markerColor%22%3A%20%22blue%22%2C%20%22prefix%22%3A%20%22glyphicon%22%7D%0A%20%20%20%20%20%20%20%20%20%20%20%20%29%3B%0A%20%20%20%20%20%20%20%20%20%20%20%20marker_a26410df69894cc1af2aba0df0bbc7db.setIcon%28icon_e1f0a44996024564a57dd7e373bcdce6%29%3B%0A%20%20%20%20%20%20%20%20%0A%20%20%20%20%0A%20%20%20%20%20%20%20%20var%20popup_95c50a2d61a548beaa8a6bda9b83ce67%20%3D%20L.popup%28%7B%22maxWidth%22%3A%20%22100%25%22%7D%29%3B%0A%0A%20%20%20%20%20%20%20%20%0A%20%20%20%20%20%20%20%20%20%20%20%20var%20html_037a5619c65843c58e62516c44b70583%20%3D%20%24%28%60%3Cdiv%20id%3D%22html_037a5619c65843c58e62516c44b70583%22%20style%3D%22width%3A%20100.0%25%3B%20height%3A%20100.0%25%3B%22%3EEMI%20DONA%20BENTA%3C/div%3E%60%29%5B0%5D%3B%0A%20%20%20%20%20%20%20%20%20%20%20%20popup_95c50a2d61a548beaa8a6bda9b83ce67.setContent%28html_037a5619c65843c58e62516c44b70583%29%3B%0A%20%20%20%20%20%20%20%20%0A%0A%20%20%20%20%20%20%20%20marker_a26410df69894cc1af2aba0df0bbc7db.bindPopup%28popup_95c50a2d61a548beaa8a6bda9b83ce67%29%0A%20%20%20%20%20%20%20%20%3B%0A%0A%20%20%20%20%20%20%20%20%0A%20%20%20%20%0A%20%20%20%20%0A%20%20%20%20%20%20%20%20%20%20%20%20var%20marker_0915f2a5e1d246f197aa5b49b9765620%20%3D%20L.marker%28%0A%20%20%20%20%20%20%20%20%20%20%20%20%20%20%20%20%5B-23.6320749%2C%20-46.7861357%5D%2C%0A%20%20%20%20%20%20%20%20%20%20%20%20%20%20%20%20%7B%7D%0A%20%20%20%20%20%20%20%20%20%20%20%20%29.addTo%28map_bb93505c135c46a2bc618588563c786e%29%3B%0A%20%20%20%20%20%20%20%20%0A%20%20%20%20%0A%20%20%20%20%20%20%20%20%20%20%20%20var%20icon_6c3d9cc27d4b488e8211a4fdba8ec5fc%20%3D%20L.AwesomeMarkers.icon%28%0A%20%20%20%20%20%20%20%20%20%20%20%20%20%20%20%20%7B%22extraClasses%22%3A%20%22fa-rotate-0%22%2C%20%22icon%22%3A%20%22info-sign%22%2C%20%22iconColor%22%3A%20%22white%22%2C%20%22markerColor%22%3A%20%22blue%22%2C%20%22prefix%22%3A%20%22glyphicon%22%7D%0A%20%20%20%20%20%20%20%20%20%20%20%20%29%3B%0A%20%20%20%20%20%20%20%20%20%20%20%20marker_0915f2a5e1d246f197aa5b49b9765620.setIcon%28icon_6c3d9cc27d4b488e8211a4fdba8ec5fc%29%3B%0A%20%20%20%20%20%20%20%20%0A%20%20%20%20%0A%20%20%20%20%20%20%20%20var%20popup_f891fbdffa104d1da744a61c1e81a0d3%20%3D%20L.popup%28%7B%22maxWidth%22%3A%20%22100%25%22%7D%29%3B%0A%0A%20%20%20%20%20%20%20%20%0A%20%20%20%20%20%20%20%20%20%20%20%20var%20html_bccb948581374e9b8ff41ee302825a45%20%3D%20%24%28%60%3Cdiv%20id%3D%22html_bccb948581374e9b8ff41ee302825a45%22%20style%3D%22width%3A%20100.0%25%3B%20height%3A%20100.0%25%3B%22%3EEMI%20CHICO%20BENTO%3C/div%3E%60%29%5B0%5D%3B%0A%20%20%20%20%20%20%20%20%20%20%20%20popup_f891fbdffa104d1da744a61c1e81a0d3.setContent%28html_bccb948581374e9b8ff41ee302825a45%29%3B%0A%20%20%20%20%20%20%20%20%0A%0A%20%20%20%20%20%20%20%20marker_0915f2a5e1d246f197aa5b49b9765620.bindPopup%28popup_f891fbdffa104d1da744a61c1e81a0d3%29%0A%20%20%20%20%20%20%20%20%3B%0A%0A%20%20%20%20%20%20%20%20%0A%20%20%20%20%0A%20%20%20%20%0A%20%20%20%20%20%20%20%20%20%20%20%20var%20marker_18fb7c3f039f407881294c42da30a7d3%20%3D%20L.marker%28%0A%20%20%20%20%20%20%20%20%20%20%20%20%20%20%20%20%5B-23.6256091%2C%20-46.7941581%5D%2C%0A%20%20%20%20%20%20%20%20%20%20%20%20%20%20%20%20%7B%7D%0A%20%20%20%20%20%20%20%20%20%20%20%20%29.addTo%28map_bb93505c135c46a2bc618588563c786e%29%3B%0A%20%20%20%20%20%20%20%20%0A%20%20%20%20%0A%20%20%20%20%20%20%20%20%20%20%20%20var%20icon_7c7049db3c3a47fc85e8731eb2896735%20%3D%20L.AwesomeMarkers.icon%28%0A%20%20%20%20%20%20%20%20%20%20%20%20%20%20%20%20%7B%22extraClasses%22%3A%20%22fa-rotate-0%22%2C%20%22icon%22%3A%20%22info-sign%22%2C%20%22iconColor%22%3A%20%22white%22%2C%20%22markerColor%22%3A%20%22blue%22%2C%20%22prefix%22%3A%20%22glyphicon%22%7D%0A%20%20%20%20%20%20%20%20%20%20%20%20%29%3B%0A%20%20%20%20%20%20%20%20%20%20%20%20marker_18fb7c3f039f407881294c42da30a7d3.setIcon%28icon_7c7049db3c3a47fc85e8731eb2896735%29%3B%0A%20%20%20%20%20%20%20%20%0A%20%20%20%20%0A%20%20%20%20%20%20%20%20var%20popup_61226129f77d4369b480646558e73440%20%3D%20L.popup%28%7B%22maxWidth%22%3A%20%22100%25%22%7D%29%3B%0A%0A%20%20%20%20%20%20%20%20%0A%20%20%20%20%20%20%20%20%20%20%20%20var%20html_784ecccc392a413c872c66056ada0235%20%3D%20%24%28%60%3Cdiv%20id%3D%22html_784ecccc392a413c872c66056ada0235%22%20style%3D%22width%3A%20100.0%25%3B%20height%3A%20100.0%25%3B%22%3EEMI%20ANINHA%3C/div%3E%60%29%5B0%5D%3B%0A%20%20%20%20%20%20%20%20%20%20%20%20popup_61226129f77d4369b480646558e73440.setContent%28html_784ecccc392a413c872c66056ada0235%29%3B%0A%20%20%20%20%20%20%20%20%0A%0A%20%20%20%20%20%20%20%20marker_18fb7c3f039f407881294c42da30a7d3.bindPopup%28popup_61226129f77d4369b480646558e73440%29%0A%20%20%20%20%20%20%20%20%3B%0A%0A%20%20%20%20%20%20%20%20%0A%20%20%20%20%0A%20%20%20%20%0A%20%20%20%20%20%20%20%20%20%20%20%20var%20marker_e287d2503c9348ac85b7e55a32bebe6f%20%3D%20L.marker%28%0A%20%20%20%20%20%20%20%20%20%20%20%20%20%20%20%20%5B-23.6351429%2C%20-46.7857609%5D%2C%0A%20%20%20%20%20%20%20%20%20%20%20%20%20%20%20%20%7B%7D%0A%20%20%20%20%20%20%20%20%20%20%20%20%29.addTo%28map_bb93505c135c46a2bc618588563c786e%29%3B%0A%20%20%20%20%20%20%20%20%0A%20%20%20%20%0A%20%20%20%20%20%20%20%20%20%20%20%20var%20icon_6b635704a09b45ad97ffa83735d8fb42%20%3D%20L.AwesomeMarkers.icon%28%0A%20%20%20%20%20%20%20%20%20%20%20%20%20%20%20%20%7B%22extraClasses%22%3A%20%22fa-rotate-0%22%2C%20%22icon%22%3A%20%22info-sign%22%2C%20%22iconColor%22%3A%20%22white%22%2C%20%22markerColor%22%3A%20%22blue%22%2C%20%22prefix%22%3A%20%22glyphicon%22%7D%0A%20%20%20%20%20%20%20%20%20%20%20%20%29%3B%0A%20%20%20%20%20%20%20%20%20%20%20%20marker_e287d2503c9348ac85b7e55a32bebe6f.setIcon%28icon_6b635704a09b45ad97ffa83735d8fb42%29%3B%0A%20%20%20%20%20%20%20%20%0A%20%20%20%20%0A%20%20%20%20%20%20%20%20var%20popup_c6a6fbee57d24aae8de8c9520b9ed264%20%3D%20L.popup%28%7B%22maxWidth%22%3A%20%22100%25%22%7D%29%3B%0A%0A%20%20%20%20%20%20%20%20%0A%20%20%20%20%20%20%20%20%20%20%20%20var%20html_4762f3fd6f0c45b3827ff81a3bbc1cdc%20%3D%20%24%28%60%3Cdiv%20id%3D%22html_4762f3fd6f0c45b3827ff81a3bbc1cdc%22%20style%3D%22width%3A%20100.0%25%3B%20height%3A%20100.0%25%3B%22%3EEMI%20PICA%20PAU%3C/div%3E%60%29%5B0%5D%3B%0A%20%20%20%20%20%20%20%20%20%20%20%20popup_c6a6fbee57d24aae8de8c9520b9ed264.setContent%28html_4762f3fd6f0c45b3827ff81a3bbc1cdc%29%3B%0A%20%20%20%20%20%20%20%20%0A%0A%20%20%20%20%20%20%20%20marker_e287d2503c9348ac85b7e55a32bebe6f.bindPopup%28popup_c6a6fbee57d24aae8de8c9520b9ed264%29%0A%20%20%20%20%20%20%20%20%3B%0A%0A%20%20%20%20%20%20%20%20%0A%20%20%20%20%0A%20%20%20%20%0A%20%20%20%20%20%20%20%20%20%20%20%20var%20marker_1f259a62b2fc4029a3ab84b8fb4cbdce%20%3D%20L.marker%28%0A%20%20%20%20%20%20%20%20%20%20%20%20%20%20%20%20%5B-23.6415492%2C%20-46.8038148%5D%2C%0A%20%20%20%20%20%20%20%20%20%20%20%20%20%20%20%20%7B%7D%0A%20%20%20%20%20%20%20%20%20%20%20%20%29.addTo%28map_bb93505c135c46a2bc618588563c786e%29%3B%0A%20%20%20%20%20%20%20%20%0A%20%20%20%20%0A%20%20%20%20%20%20%20%20%20%20%20%20var%20icon_3ba138c52a3042ff832e3d23409148ff%20%3D%20L.AwesomeMarkers.icon%28%0A%20%20%20%20%20%20%20%20%20%20%20%20%20%20%20%20%7B%22extraClasses%22%3A%20%22fa-rotate-0%22%2C%20%22icon%22%3A%20%22info-sign%22%2C%20%22iconColor%22%3A%20%22white%22%2C%20%22markerColor%22%3A%20%22blue%22%2C%20%22prefix%22%3A%20%22glyphicon%22%7D%0A%20%20%20%20%20%20%20%20%20%20%20%20%29%3B%0A%20%20%20%20%20%20%20%20%20%20%20%20marker_1f259a62b2fc4029a3ab84b8fb4cbdce.setIcon%28icon_3ba138c52a3042ff832e3d23409148ff%29%3B%0A%20%20%20%20%20%20%20%20%0A%20%20%20%20%0A%20%20%20%20%20%20%20%20var%20popup_9f4017f5b5a54c168ad66b9810572379%20%3D%20L.popup%28%7B%22maxWidth%22%3A%20%22100%25%22%7D%29%3B%0A%0A%20%20%20%20%20%20%20%20%0A%20%20%20%20%20%20%20%20%20%20%20%20var%20html_9a20cdd23d05422eaac2e6e1d48f874e%20%3D%20%24%28%60%3Cdiv%20id%3D%22html_9a20cdd23d05422eaac2e6e1d48f874e%22%20style%3D%22width%3A%20100.0%25%3B%20height%3A%20100.0%25%3B%22%3EPAC%20PAZ%20E%20VIDA%20/%20EMI%20DONA%20BENTA%3C/div%3E%60%29%5B0%5D%3B%0A%20%20%20%20%20%20%20%20%20%20%20%20popup_9f4017f5b5a54c168ad66b9810572379.setContent%28html_9a20cdd23d05422eaac2e6e1d48f874e%29%3B%0A%20%20%20%20%20%20%20%20%0A%0A%20%20%20%20%20%20%20%20marker_1f259a62b2fc4029a3ab84b8fb4cbdce.bindPopup%28popup_9f4017f5b5a54c168ad66b9810572379%29%0A%20%20%20%20%20%20%20%20%3B%0A%0A%20%20%20%20%20%20%20%20%0A%20%20%20%20%0A%20%20%20%20%0A%20%20%20%20%20%20%20%20%20%20%20%20var%20marker_49fe2f595e614557a29265a29e5b7cc1%20%3D%20L.marker%28%0A%20%20%20%20%20%20%20%20%20%20%20%20%20%20%20%20%5B-23.6239904%2C%20-46.7797274%5D%2C%0A%20%20%20%20%20%20%20%20%20%20%20%20%20%20%20%20%7B%7D%0A%20%20%20%20%20%20%20%20%20%20%20%20%29.addTo%28map_bb93505c135c46a2bc618588563c786e%29%3B%0A%20%20%20%20%20%20%20%20%0A%20%20%20%20%0A%20%20%20%20%20%20%20%20%20%20%20%20var%20icon_84cde1aa0263486eb80851efe9c46dcb%20%3D%20L.AwesomeMarkers.icon%28%0A%20%20%20%20%20%20%20%20%20%20%20%20%20%20%20%20%7B%22extraClasses%22%3A%20%22fa-rotate-0%22%2C%20%22icon%22%3A%20%22info-sign%22%2C%20%22iconColor%22%3A%20%22white%22%2C%20%22markerColor%22%3A%20%22blue%22%2C%20%22prefix%22%3A%20%22glyphicon%22%7D%0A%20%20%20%20%20%20%20%20%20%20%20%20%29%3B%0A%20%20%20%20%20%20%20%20%20%20%20%20marker_49fe2f595e614557a29265a29e5b7cc1.setIcon%28icon_84cde1aa0263486eb80851efe9c46dcb%29%3B%0A%20%20%20%20%20%20%20%20%0A%20%20%20%20%0A%20%20%20%20%20%20%20%20var%20popup_2dd885360ab34a36863f47a1557eba49%20%3D%20L.popup%28%7B%22maxWidth%22%3A%20%22100%25%22%7D%29%3B%0A%0A%20%20%20%20%20%20%20%20%0A%20%20%20%20%20%20%20%20%20%20%20%20var%20html_c3708b8550bd4edca5a58b9d804c4dcc%20%3D%20%24%28%60%3Cdiv%20id%3D%22html_c3708b8550bd4edca5a58b9d804c4dcc%22%20style%3D%22width%3A%20100.0%25%3B%20height%3A%20100.0%25%3B%22%3EEMI%20JOTALH%C3%83O%3C/div%3E%60%29%5B0%5D%3B%0A%20%20%20%20%20%20%20%20%20%20%20%20popup_2dd885360ab34a36863f47a1557eba49.setContent%28html_c3708b8550bd4edca5a58b9d804c4dcc%29%3B%0A%20%20%20%20%20%20%20%20%0A%0A%20%20%20%20%20%20%20%20marker_49fe2f595e614557a29265a29e5b7cc1.bindPopup%28popup_2dd885360ab34a36863f47a1557eba49%29%0A%20%20%20%20%20%20%20%20%3B%0A%0A%20%20%20%20%20%20%20%20%0A%20%20%20%20%0A%20%20%20%20%0A%20%20%20%20%20%20%20%20%20%20%20%20var%20marker_fbaab99bceba433b8981a73938c210f1%20%3D%20L.marker%28%0A%20%20%20%20%20%20%20%20%20%20%20%20%20%20%20%20%5B-23.6146524%2C%20-46.76379619999999%5D%2C%0A%20%20%20%20%20%20%20%20%20%20%20%20%20%20%20%20%7B%7D%0A%20%20%20%20%20%20%20%20%20%20%20%20%29.addTo%28map_bb93505c135c46a2bc618588563c786e%29%3B%0A%20%20%20%20%20%20%20%20%0A%20%20%20%20%0A%20%20%20%20%20%20%20%20%20%20%20%20var%20icon_bb136d339cc74f4eb5c47b7c4a68d46c%20%3D%20L.AwesomeMarkers.icon%28%0A%20%20%20%20%20%20%20%20%20%20%20%20%20%20%20%20%7B%22extraClasses%22%3A%20%22fa-rotate-0%22%2C%20%22icon%22%3A%20%22info-sign%22%2C%20%22iconColor%22%3A%20%22white%22%2C%20%22markerColor%22%3A%20%22blue%22%2C%20%22prefix%22%3A%20%22glyphicon%22%7D%0A%20%20%20%20%20%20%20%20%20%20%20%20%29%3B%0A%20%20%20%20%20%20%20%20%20%20%20%20marker_fbaab99bceba433b8981a73938c210f1.setIcon%28icon_bb136d339cc74f4eb5c47b7c4a68d46c%29%3B%0A%20%20%20%20%20%20%20%20%0A%20%20%20%20%0A%20%20%20%20%20%20%20%20var%20popup_6453e7929ff548689d9d0cf643ce7aa4%20%3D%20L.popup%28%7B%22maxWidth%22%3A%20%22100%25%22%7D%29%3B%0A%0A%20%20%20%20%20%20%20%20%0A%20%20%20%20%20%20%20%20%20%20%20%20var%20html_b2c39824fcbb4cb2ab73cf722fb8b5b0%20%3D%20%24%28%60%3Cdiv%20id%3D%22html_b2c39824fcbb4cb2ab73cf722fb8b5b0%22%20style%3D%22width%3A%20100.0%25%3B%20height%3A%20100.0%25%3B%22%3EPAC%20SANTA%20TEREZINHA%20I%20/%20EMI%20ANJINHO%3C/div%3E%60%29%5B0%5D%3B%0A%20%20%20%20%20%20%20%20%20%20%20%20popup_6453e7929ff548689d9d0cf643ce7aa4.setContent%28html_b2c39824fcbb4cb2ab73cf722fb8b5b0%29%3B%0A%20%20%20%20%20%20%20%20%0A%0A%20%20%20%20%20%20%20%20marker_fbaab99bceba433b8981a73938c210f1.bindPopup%28popup_6453e7929ff548689d9d0cf643ce7aa4%29%0A%20%20%20%20%20%20%20%20%3B%0A%0A%20%20%20%20%20%20%20%20%0A%20%20%20%20%0A%20%20%20%20%0A%20%20%20%20%20%20%20%20%20%20%20%20var%20marker_d4d2e039fd83480db46bf67617f3635f%20%3D%20L.marker%28%0A%20%20%20%20%20%20%20%20%20%20%20%20%20%20%20%20%5B-23.6173697%2C%20-46.7669098%5D%2C%0A%20%20%20%20%20%20%20%20%20%20%20%20%20%20%20%20%7B%7D%0A%20%20%20%20%20%20%20%20%20%20%20%20%29.addTo%28map_bb93505c135c46a2bc618588563c786e%29%3B%0A%20%20%20%20%20%20%20%20%0A%20%20%20%20%0A%20%20%20%20%20%20%20%20%20%20%20%20var%20icon_86197dfb7d4c49e5bc2de30be57cb9bd%20%3D%20L.AwesomeMarkers.icon%28%0A%20%20%20%20%20%20%20%20%20%20%20%20%20%20%20%20%7B%22extraClasses%22%3A%20%22fa-rotate-0%22%2C%20%22icon%22%3A%20%22info-sign%22%2C%20%22iconColor%22%3A%20%22white%22%2C%20%22markerColor%22%3A%20%22blue%22%2C%20%22prefix%22%3A%20%22glyphicon%22%7D%0A%20%20%20%20%20%20%20%20%20%20%20%20%29%3B%0A%20%20%20%20%20%20%20%20%20%20%20%20marker_d4d2e039fd83480db46bf67617f3635f.setIcon%28icon_86197dfb7d4c49e5bc2de30be57cb9bd%29%3B%0A%20%20%20%20%20%20%20%20%0A%20%20%20%20%0A%20%20%20%20%20%20%20%20var%20popup_b6f3048eeb294d0881b7a9fa97092a6c%20%3D%20L.popup%28%7B%22maxWidth%22%3A%20%22100%25%22%7D%29%3B%0A%0A%20%20%20%20%20%20%20%20%0A%20%20%20%20%20%20%20%20%20%20%20%20var%20html_396e89ce043a4ccfb1d3aa4f76497849%20%3D%20%24%28%60%3Cdiv%20id%3D%22html_396e89ce043a4ccfb1d3aa4f76497849%22%20style%3D%22width%3A%20100.0%25%3B%20height%3A%20100.0%25%3B%22%3EEMI%20ANJINHO%3C/div%3E%60%29%5B0%5D%3B%0A%20%20%20%20%20%20%20%20%20%20%20%20popup_b6f3048eeb294d0881b7a9fa97092a6c.setContent%28html_396e89ce043a4ccfb1d3aa4f76497849%29%3B%0A%20%20%20%20%20%20%20%20%0A%0A%20%20%20%20%20%20%20%20marker_d4d2e039fd83480db46bf67617f3635f.bindPopup%28popup_b6f3048eeb294d0881b7a9fa97092a6c%29%0A%20%20%20%20%20%20%20%20%3B%0A%0A%20%20%20%20%20%20%20%20%0A%20%20%20%20%0A%20%20%20%20%0A%20%20%20%20%20%20%20%20%20%20%20%20var%20marker_f516ccb268674a82a013443dd7a31836%20%3D%20L.marker%28%0A%20%20%20%20%20%20%20%20%20%20%20%20%20%20%20%20%5B-23.6320806%2C%20-46.779614%5D%2C%0A%20%20%20%20%20%20%20%20%20%20%20%20%20%20%20%20%7B%7D%0A%20%20%20%20%20%20%20%20%20%20%20%20%29.addTo%28map_bb93505c135c46a2bc618588563c786e%29%3B%0A%20%20%20%20%20%20%20%20%0A%20%20%20%20%0A%20%20%20%20%20%20%20%20%20%20%20%20var%20icon_c40865b2a8f94b1c826985be04b12407%20%3D%20L.AwesomeMarkers.icon%28%0A%20%20%20%20%20%20%20%20%20%20%20%20%20%20%20%20%7B%22extraClasses%22%3A%20%22fa-rotate-0%22%2C%20%22icon%22%3A%20%22info-sign%22%2C%20%22iconColor%22%3A%20%22white%22%2C%20%22markerColor%22%3A%20%22blue%22%2C%20%22prefix%22%3A%20%22glyphicon%22%7D%0A%20%20%20%20%20%20%20%20%20%20%20%20%29%3B%0A%20%20%20%20%20%20%20%20%20%20%20%20marker_f516ccb268674a82a013443dd7a31836.setIcon%28icon_c40865b2a8f94b1c826985be04b12407%29%3B%0A%20%20%20%20%20%20%20%20%0A%20%20%20%20%0A%20%20%20%20%20%20%20%20var%20popup_ec7f68918d22432997ff6172bb7b3032%20%3D%20L.popup%28%7B%22maxWidth%22%3A%20%22100%25%22%7D%29%3B%0A%0A%20%20%20%20%20%20%20%20%0A%20%20%20%20%20%20%20%20%20%20%20%20var%20html_b384d65f17a24d10bf6d00c0f9a1e509%20%3D%20%24%28%60%3Cdiv%20id%3D%22html_b384d65f17a24d10bf6d00c0f9a1e509%22%20style%3D%22width%3A%20100.0%25%3B%20height%3A%20100.0%25%3B%22%3EPAC%20S%C3%83O%20DOMINGOS%20/%20EMI%20EM%C3%8DLIA%3C/div%3E%60%29%5B0%5D%3B%0A%20%20%20%20%20%20%20%20%20%20%20%20popup_ec7f68918d22432997ff6172bb7b3032.setContent%28html_b384d65f17a24d10bf6d00c0f9a1e509%29%3B%0A%20%20%20%20%20%20%20%20%0A%0A%20%20%20%20%20%20%20%20marker_f516ccb268674a82a013443dd7a31836.bindPopup%28popup_ec7f68918d22432997ff6172bb7b3032%29%0A%20%20%20%20%20%20%20%20%3B%0A%0A%20%20%20%20%20%20%20%20%0A%20%20%20%20%0A%20%20%20%20%0A%20%20%20%20%20%20%20%20%20%20%20%20var%20marker_46f6fdc8eb524bdcb6fe3071007e07fe%20%3D%20L.marker%28%0A%20%20%20%20%20%20%20%20%20%20%20%20%20%20%20%20%5B-23.6070313%2C%20-46.7701826%5D%2C%0A%20%20%20%20%20%20%20%20%20%20%20%20%20%20%20%20%7B%7D%0A%20%20%20%20%20%20%20%20%20%20%20%20%29.addTo%28map_bb93505c135c46a2bc618588563c786e%29%3B%0A%20%20%20%20%20%20%20%20%0A%20%20%20%20%0A%20%20%20%20%20%20%20%20%20%20%20%20var%20icon_574ff0c20e6b43dea6cd778a9248daf1%20%3D%20L.AwesomeMarkers.icon%28%0A%20%20%20%20%20%20%20%20%20%20%20%20%20%20%20%20%7B%22extraClasses%22%3A%20%22fa-rotate-0%22%2C%20%22icon%22%3A%20%22info-sign%22%2C%20%22iconColor%22%3A%20%22white%22%2C%20%22markerColor%22%3A%20%22blue%22%2C%20%22prefix%22%3A%20%22glyphicon%22%7D%0A%20%20%20%20%20%20%20%20%20%20%20%20%29%3B%0A%20%20%20%20%20%20%20%20%20%20%20%20marker_46f6fdc8eb524bdcb6fe3071007e07fe.setIcon%28icon_574ff0c20e6b43dea6cd778a9248daf1%29%3B%0A%20%20%20%20%20%20%20%20%0A%20%20%20%20%0A%20%20%20%20%20%20%20%20var%20popup_eee6a0f8ed3743569f4fbc2200f0ed1d%20%3D%20L.popup%28%7B%22maxWidth%22%3A%20%22100%25%22%7D%29%3B%0A%0A%20%20%20%20%20%20%20%20%0A%20%20%20%20%20%20%20%20%20%20%20%20var%20html_ee3041c22c494824ae4f39b5672e5e67%20%3D%20%24%28%60%3Cdiv%20id%3D%22html_ee3041c22c494824ae4f39b5672e5e67%22%20style%3D%22width%3A%20100.0%25%3B%20height%3A%20100.0%25%3B%22%3EPAC%20S%C3%83O%20JO%C3%83O%20MARIA%20VIANEY%20/%20EMI%20NARIZINHO%3C/div%3E%60%29%5B0%5D%3B%0A%20%20%20%20%20%20%20%20%20%20%20%20popup_eee6a0f8ed3743569f4fbc2200f0ed1d.setContent%28html_ee3041c22c494824ae4f39b5672e5e67%29%3B%0A%20%20%20%20%20%20%20%20%0A%0A%20%20%20%20%20%20%20%20marker_46f6fdc8eb524bdcb6fe3071007e07fe.bindPopup%28popup_eee6a0f8ed3743569f4fbc2200f0ed1d%29%0A%20%20%20%20%20%20%20%20%3B%0A%0A%20%20%20%20%20%20%20%20%0A%20%20%20%20%0A%20%20%20%20%0A%20%20%20%20%20%20%20%20%20%20%20%20var%20marker_1e60213dc2e74ae4b2de72670c0b51cc%20%3D%20L.marker%28%0A%20%20%20%20%20%20%20%20%20%20%20%20%20%20%20%20%5B-23.621788%2C%20-46.7811262%5D%2C%0A%20%20%20%20%20%20%20%20%20%20%20%20%20%20%20%20%7B%7D%0A%20%20%20%20%20%20%20%20%20%20%20%20%29.addTo%28map_bb93505c135c46a2bc618588563c786e%29%3B%0A%20%20%20%20%20%20%20%20%0A%20%20%20%20%0A%20%20%20%20%20%20%20%20%20%20%20%20var%20icon_18fc3ea4dd984bfdbcd403ea80ae46b5%20%3D%20L.AwesomeMarkers.icon%28%0A%20%20%20%20%20%20%20%20%20%20%20%20%20%20%20%20%7B%22extraClasses%22%3A%20%22fa-rotate-0%22%2C%20%22icon%22%3A%20%22info-sign%22%2C%20%22iconColor%22%3A%20%22white%22%2C%20%22markerColor%22%3A%20%22blue%22%2C%20%22prefix%22%3A%20%22glyphicon%22%7D%0A%20%20%20%20%20%20%20%20%20%20%20%20%29%3B%0A%20%20%20%20%20%20%20%20%20%20%20%20marker_1e60213dc2e74ae4b2de72670c0b51cc.setIcon%28icon_18fc3ea4dd984bfdbcd403ea80ae46b5%29%3B%0A%20%20%20%20%20%20%20%20%0A%20%20%20%20%0A%20%20%20%20%20%20%20%20var%20popup_95f399f85d904ddc8fc8fdadd5da8bff%20%3D%20L.popup%28%7B%22maxWidth%22%3A%20%22100%25%22%7D%29%3B%0A%0A%20%20%20%20%20%20%20%20%0A%20%20%20%20%20%20%20%20%20%20%20%20var%20html_b951e054be27443c94df2f437ea00b27%20%3D%20%24%28%60%3Cdiv%20id%3D%22html_b951e054be27443c94df2f437ea00b27%22%20style%3D%22width%3A%20100.0%25%3B%20height%3A%20100.0%25%3B%22%3EEMI%20CUCA%3C/div%3E%60%29%5B0%5D%3B%0A%20%20%20%20%20%20%20%20%20%20%20%20popup_95f399f85d904ddc8fc8fdadd5da8bff.setContent%28html_b951e054be27443c94df2f437ea00b27%29%3B%0A%20%20%20%20%20%20%20%20%0A%0A%20%20%20%20%20%20%20%20marker_1e60213dc2e74ae4b2de72670c0b51cc.bindPopup%28popup_95f399f85d904ddc8fc8fdadd5da8bff%29%0A%20%20%20%20%20%20%20%20%3B%0A%0A%20%20%20%20%20%20%20%20%0A%20%20%20%20%0A%20%20%20%20%0A%20%20%20%20%20%20%20%20%20%20%20%20var%20marker_7cba9fd5d7a0440d9e4ed01960721c9c%20%3D%20L.marker%28%0A%20%20%20%20%20%20%20%20%20%20%20%20%20%20%20%20%5B-23.6228501%2C%20-46.7840465%5D%2C%0A%20%20%20%20%20%20%20%20%20%20%20%20%20%20%20%20%7B%7D%0A%20%20%20%20%20%20%20%20%20%20%20%20%29.addTo%28map_bb93505c135c46a2bc618588563c786e%29%3B%0A%20%20%20%20%20%20%20%20%0A%20%20%20%20%0A%20%20%20%20%20%20%20%20%20%20%20%20var%20icon_182104ea83644ad8b64b489972634c49%20%3D%20L.AwesomeMarkers.icon%28%0A%20%20%20%20%20%20%20%20%20%20%20%20%20%20%20%20%7B%22extraClasses%22%3A%20%22fa-rotate-0%22%2C%20%22icon%22%3A%20%22info-sign%22%2C%20%22iconColor%22%3A%20%22white%22%2C%20%22markerColor%22%3A%20%22blue%22%2C%20%22prefix%22%3A%20%22glyphicon%22%7D%0A%20%20%20%20%20%20%20%20%20%20%20%20%29%3B%0A%20%20%20%20%20%20%20%20%20%20%20%20marker_7cba9fd5d7a0440d9e4ed01960721c9c.setIcon%28icon_182104ea83644ad8b64b489972634c49%29%3B%0A%20%20%20%20%20%20%20%20%0A%20%20%20%20%0A%20%20%20%20%20%20%20%20var%20popup_f4a5642c60bc4d979b1377016234cdf8%20%3D%20L.popup%28%7B%22maxWidth%22%3A%20%22100%25%22%7D%29%3B%0A%0A%20%20%20%20%20%20%20%20%0A%20%20%20%20%20%20%20%20%20%20%20%20var%20html_46b1fc8aa1684839af07ced1a2a5ba12%20%3D%20%24%28%60%3Cdiv%20id%3D%22html_46b1fc8aa1684839af07ced1a2a5ba12%22%20style%3D%22width%3A%20100.0%25%3B%20height%3A%20100.0%25%3B%22%3EPAC%20NOSSA%20SENHORA%20DAS%20GRA%C3%87AS%20/%20EMI%20JUREMA%3C/div%3E%60%29%5B0%5D%3B%0A%20%20%20%20%20%20%20%20%20%20%20%20popup_f4a5642c60bc4d979b1377016234cdf8.setContent%28html_46b1fc8aa1684839af07ced1a2a5ba12%29%3B%0A%20%20%20%20%20%20%20%20%0A%0A%20%20%20%20%20%20%20%20marker_7cba9fd5d7a0440d9e4ed01960721c9c.bindPopup%28popup_f4a5642c60bc4d979b1377016234cdf8%29%0A%20%20%20%20%20%20%20%20%3B%0A%0A%20%20%20%20%20%20%20%20%0A%20%20%20%20%0A%20%20%20%20%0A%20%20%20%20%20%20%20%20%20%20%20%20var%20fast_marker_cluster_cc51685ea43946508b40201c3716095e%20%3D%20%28function%28%29%7B%0A%20%20%20%20%20%20%20%20%20%20%20%20%20%20%20%20%0A%20%20%20%20%20%20%20%20%20%20%20%20%20%20%20%20var%20callback%20%3D%20function%20%28row%29%20%7B%0A%20%20%20%20%20%20%20%20%20%20%20%20%20%20%20%20%20%20%20%20var%20icon%20%3D%20L.AwesomeMarkers.icon%28%29%3B%0A%20%20%20%20%20%20%20%20%20%20%20%20%20%20%20%20%20%20%20%20var%20marker%20%3D%20L.marker%28new%20L.LatLng%28row%5B0%5D%2C%20row%5B1%5D%29%29%3B%0A%20%20%20%20%20%20%20%20%20%20%20%20%20%20%20%20%20%20%20%20marker.setIcon%28icon%29%3B%0A%20%20%20%20%20%20%20%20%20%20%20%20%20%20%20%20%20%20%20%20return%20marker%3B%0A%20%20%20%20%20%20%20%20%20%20%20%20%20%20%20%20%7D%3B%0A%0A%20%20%20%20%20%20%20%20%20%20%20%20%20%20%20%20var%20data%20%3D%20%5B%5B-23.6232247%2C%20-46.8008647%5D%2C%20%5B-23.6288772%2C%20-46.8023341%5D%2C%20%5B-23.6375858%2C%20-46.7839102%5D%2C%20%5B-23.6346218%2C%20-46.7983024%5D%2C%20%5B-23.6233403%2C%20-46.7851521%5D%2C%20%5B-23.6123693%2C%20-46.7980172%5D%2C%20%5B-23.6014547%2C%20-46.7576855%5D%2C%20%5B-23.6227091%2C%20-46.8040423%5D%2C%20%5B-23.6112723%2C%20-46.7850203%5D%2C%20%5B-23.6287132%2C%20-46.8012051%5D%2C%20%5B-23.6003786%2C%20-46.7620855%5D%2C%20%5B-23.6380595%2C%20-46.78476149999999%5D%2C%20%5B-23.6290015%2C%20-46.7932539%5D%2C%20%5B-23.6266845%2C%20-46.7960442%5D%2C%20%5B-23.624559%2C%20-46.7908158%5D%2C%20%5B-23.6238266%2C%20-46.8081835%5D%2C%20%5B-23.6285261%2C%20-46.7855629%5D%2C%20%5B-23.6440482%2C%20-46.79311209999999%5D%2C%20%5B-23.6417788%2C%20-46.801953%5D%2C%20%5B-23.6048876%2C%20-46.7539269%5D%2C%20%5B-23.6264185%2C%20-46.7760391%5D%2C%20%5B-23.6432843%2C%20-46.7982858%5D%2C%20%5B-23.6271965%2C%20-46.7904177%5D%2C%20%5B-23.6404095%2C%20-46.7892373%5D%2C%20%5B-23.6274747%2C%20-46.7882439%5D%2C%20%5B-23.6249122%2C%20-46.7950071%5D%2C%20%5B-23.612939%2C%20-46.7886404%5D%2C%20%5B-23.6269244%2C%20-46.79417910000001%5D%2C%20%5B-23.6284866%2C%20-46.7731057%5D%2C%20%5B-23.6433885%2C%20-46.7934429%5D%2C%20%5B-23.6192018%2C%20-46.7716009%5D%2C%20%5B-23.6195454%2C%20-46.8013091%5D%2C%20%5B-23.6367969%2C%20-46.7972827%5D%2C%20%5B-23.6118232%2C%20-46.759714%5D%2C%20%5B-23.6321664%2C%20-46.7953085%5D%2C%20%5B-23.638684%2C%20-46.7912157%5D%2C%20%5B-23.6416175%2C%20-46.7917056%5D%2C%20%5B-23.6247713%2C%20-46.7717484%5D%2C%20%5B-23.6400264%2C%20-46.7935069%5D%2C%20%5B-23.6142365%2C%20-46.7626888%5D%2C%20%5B-23.6355832%2C%20-46.8040536%5D%2C%20%5B-23.6259174%2C%20-46.7842539%5D%2C%20%5B-23.6114084%2C%20-46.7854422%5D%2C%20%5B-23.6303629%2C%20-46.7821129%5D%2C%20%5B-23.6369695%2C%20-46.78284379999999%5D%2C%20%5B-23.6127136%2C%20-46.76725340000001%5D%2C%20%5B-23.6187774%2C%20-46.7651299%5D%2C%20%5B-23.6185865%2C%20-46.7666839%5D%2C%20%5B-23.6056987%2C%20-46.75468009999999%5D%2C%20%5B-23.6103892%2C%20-46.7832588%5D%2C%20%5B-23.6117446%2C%20-46.7834702%5D%2C%20%5B-23.6265564%2C%20-46.80897%5D%2C%20%5B-23.6166858%2C%20-46.7867685%5D%2C%20%5B-23.6368426%2C%20-46.786114%5D%2C%20%5B-23.6251113%2C%20-46.7899667%5D%2C%20%5B-23.6290755%2C%20-46.8093179%5D%2C%20%5B-23.6023992%2C%20-46.7681038%5D%2C%20%5B-23.6278197%2C%20-46.79342339999999%5D%2C%20%5B-23.6322743%2C%20-46.7999854%5D%2C%20%5B-23.6202106%2C%20-46.77094779999999%5D%2C%20%5B-23.6275714%2C%20-46.7755974%5D%2C%20%5B-23.6071231%2C%20-46.7538083%5D%2C%20%5B-23.6197368%2C%20-46.8015785%5D%2C%20%5B-23.6266037%2C%20-46.7870681%5D%2C%20%5B-23.6279596%2C%20-46.7719733%5D%2C%20%5B-23.6206802%2C%20-46.7710179%5D%2C%20%5B-23.6278535%2C%20-46.7926016%5D%2C%20%5B-23.6182264%2C%20-46.7737197%5D%2C%20%5B-23.6310905%2C%20-46.7820875%5D%2C%20%5B-23.6257335%2C%20-46.7806725%5D%2C%20%5B-23.6245666%2C%20-46.7716879%5D%2C%20%5B-23.6242117%2C%20-46.7700718%5D%2C%20%5B-23.6006884%2C%20-46.7637386%5D%2C%20%5B-23.6295961%2C%20-46.78505819999999%5D%2C%20%5B-23.6320155%2C%20-46.7867197%5D%2C%20%5B-23.6226141%2C%20-46.7743652%5D%2C%20%5B-23.6055431%2C%20-46.7514012%5D%2C%20%5B-23.6366129%2C%20-46.7865814%5D%2C%20%5B-23.627407%2C%20-46.78824590000001%5D%2C%20%5B-23.6252867%2C%20-46.79221080000001%5D%2C%20%5B-23.6030501%2C%20-46.7560807%5D%2C%20%5B-23.6182264%2C%20-46.7737197%5D%2C%20%5B-23.6314632%2C%20-46.7944167%5D%2C%20%5B-23.6131332%2C%20-46.7875114%5D%2C%20%5B-23.6185264%2C%20-46.8017346%5D%2C%20%5B-23.6238102%2C%20-46.7937132%5D%2C%20%5B-23.6102416%2C%20-46.7845744%5D%2C%20%5B-23.622658%2C%20-46.8035613%5D%2C%20%5B-23.6280453%2C%20-46.8047768%5D%2C%20%5B-23.6131445%2C%20-46.7960411%5D%2C%20%5B-23.6216399%2C%20-46.8073782%5D%2C%20%5B-23.6327242%2C%20-46.7911017%5D%2C%20%5B-23.6286785%2C%20-46.800811%5D%2C%20%5B-23.6438919%2C%20-46.7927623%5D%2C%20%5B-23.6416175%2C%20-46.7917056%5D%2C%20%5B-23.623441%2C%20-46.7752384%5D%2C%20%5B-23.6236015%2C%20-46.8035327%5D%2C%20%5B-23.6093066%2C%20-46.7806998%5D%2C%20%5B-23.6278144%2C%20-46.7721425%5D%2C%20%5B-23.6108453%2C%20-46.7601106%5D%2C%20%5B-23.6057623%2C%20-46.7680522%5D%2C%20%5B-23.6321477%2C%20-46.7800082%5D%2C%20%5B-23.6313217%2C%20-46.7948217%5D%2C%20%5B-23.6429093%2C%20-46.7937843%5D%2C%20%5B-23.6133526%2C%20-46.7739009%5D%2C%20%5B-23.6268739%2C%20-46.7857045%5D%2C%20%5B-23.6369214%2C%20-46.7849022%5D%2C%20%5B-23.6272461%2C%20-46.7967917%5D%2C%20%5B-23.6241583%2C%20-46.776341%5D%2C%20%5B-23.6157812%2C%20-46.7679996%5D%2C%20%5B-23.628844%2C%20-46.8095821%5D%2C%20%5B-23.6024768%2C%20-46.76266160000001%5D%2C%20%5B-23.6023992%2C%20-46.7681038%5D%2C%20%5B-23.6423295%2C%20-46.8005805%5D%2C%20%5B-23.6286897%2C%20-46.7812963%5D%2C%20%5B-23.6295146%2C%20-46.7923021%5D%2C%20%5B-23.6190085%2C%20-46.7714489%5D%2C%20%5B-23.6184929%2C%20-46.7718457%5D%2C%20%5B-23.6354849%2C%20-46.7903616%5D%2C%20%5B-23.6275779%2C%20-46.7893969%5D%2C%20%5B-23.6304672%2C%20-46.7789755%5D%2C%20%5B-23.6375692%2C%20-46.787762%5D%2C%20%5B-23.6269504%2C%20-46.7999433%5D%2C%20%5B-23.6261545%2C%20-46.8096623%5D%2C%20%5B-23.6309369%2C%20-46.7815137%5D%2C%20%5B-23.622%2C%20-46.7835352%5D%2C%20%5B-23.6265199%2C%20-46.78092230000001%5D%2C%20%5B-23.6377301%2C%20-46.7883665%5D%2C%20%5B-23.6404524%2C%20-46.7959861%5D%2C%20%5B-23.6280317%2C%20-46.778627%5D%2C%20%5B-23.6356035%2C%20-46.7985684%5D%2C%20%5B-23.6023128%2C%20-46.7743648%5D%2C%20%5B-23.6448242%2C%20-46.79600010000001%5D%2C%20%5B-23.6199689%2C%20-46.7955323%5D%2C%20%5B-23.6048461%2C%20-46.7846775%5D%2C%20%5B-23.6146358%2C%20-46.7623774%5D%2C%20%5B-23.6239675%2C%20-46.7945153%5D%2C%20%5B-23.6197666%2C%20-46.79765%5D%2C%20%5B-23.6098997%2C%20-46.7784988%5D%2C%20%5B-23.6278842%2C%20-46.7963713%5D%2C%20%5B-23.6166858%2C%20-46.7867685%5D%2C%20%5B-23.6266643%2C%20-46.7808515%5D%2C%20%5B-23.604386%2C%20-46.7653133%5D%2C%20%5B-23.6311495%2C%20-46.7780585%5D%2C%20%5B-23.6270374%2C%20-46.7802343%5D%2C%20%5B-23.6334383%2C%20-46.8018108%5D%2C%20%5B-23.6370982%2C%20-46.7962783%5D%2C%20%5B-23.6435139%2C%20-46.7906412%5D%2C%20%5B-23.6288578%2C%20-46.7973423%5D%2C%20%5B-23.6317544%2C%20-46.77888009999999%5D%2C%20%5B-23.6308055%2C%20-46.80573889999999%5D%2C%20%5B-23.6084627%2C%20-46.76843359999999%5D%2C%20%5B-23.6199689%2C%20-46.7955323%5D%2C%20%5B-23.5649803%2C%20-46.75865779999999%5D%2C%20%5B-23.6380384%2C%20-46.7920691%5D%2C%20%5B-23.6228774%2C%20-46.7935564%5D%2C%20%5B-23.6263826%2C%20-46.7954472%5D%2C%20%5B-23.6261883%2C%20-46.7828998%5D%2C%20%5B-23.6142665%2C%20-46.7661767%5D%2C%20%5B-23.6255134%2C%20-46.7702015%5D%2C%20%5B-23.6345133%2C%20-46.7839617%5D%2C%20%5B-23.6080965%2C%20-46.7565207%5D%2C%20%5B-23.6034105%2C%20-46.7565365%5D%2C%20%5B-23.6262656%2C%20-46.7886304%5D%2C%20%5B-23.6006198%2C%20-46.7668093%5D%2C%20%5B-23.6247171%2C%20-46.7930277%5D%2C%20%5B-23.6203741%2C%20-46.8028802%5D%2C%20%5B-23.6446568%2C%20-46.7953621%5D%2C%20%5B-23.6230772%2C%20-46.7859026%5D%2C%20%5B-23.6417901%2C%20-46.7919366%5D%2C%20%5B-23.6058938%2C%20-46.7682361%5D%2C%20%5B-23.6356004%2C%20-46.7819394%5D%2C%20%5B-23.6319007%2C%20-46.7853606%5D%2C%20%5B-23.6101442%2C%20-46.7636024%5D%2C%20%5B-23.6425189%2C%20-46.80369020000001%5D%2C%20%5B-23.6021796%2C%20-46.7570008%5D%2C%20%5B-23.6237619%2C%20-46.7717661%5D%2C%20%5B-23.6202763%2C%20-46.7658259%5D%2C%20%5B-23.6317664%2C%20-46.8016495%5D%2C%20%5B-23.6023334%2C%20-46.7540268%5D%2C%20%5B-23.6261528%2C%20-46.7852279%5D%2C%20%5B-23.6170238%2C%20-46.767886%5D%2C%20%5B-23.6098997%2C%20-46.7784988%5D%2C%20%5B-23.6271059%2C%20-46.796592%5D%2C%20%5B-23.6313001%2C%20-46.7913959%5D%2C%20%5B-23.6243039%2C%20-46.7860412%5D%2C%20%5B-23.6231237%2C%20-46.8015455%5D%2C%20%5B-23.6257219%2C%20-46.7775665%5D%2C%20%5B-23.6334662%2C%20-46.8010891%5D%2C%20%5B-23.6334662%2C%20-46.8010891%5D%2C%20%5B-23.6434087%2C%20-46.7944585%5D%2C%20%5B-23.6385872%2C%20-46.8029715%5D%2C%20%5B-23.6408866%2C%20-46.7883004%5D%2C%20%5B-23.6237349%2C%20-46.7732789%5D%2C%20%5B-23.6308768%2C%20-46.7942843%5D%2C%20%5B-23.6187028%2C%20-46.7656626%5D%2C%20%5B-23.6182264%2C%20-46.7737197%5D%2C%20%5B-23.6423508%2C%20-46.7950233%5D%2C%20%5B-23.6280054%2C%20-46.8110328%5D%2C%20%5B-23.6420623%2C%20-46.79904699999999%5D%2C%20%5B-23.6127136%2C%20-46.76725340000001%5D%2C%20%5B-23.6281321%2C%20-46.7761315%5D%2C%20%5B-23.619056%2C%20-46.7723453%5D%2C%20%5B-23.6360558%2C%20-46.7964466%5D%2C%20%5B-23.6250822%2C%20-46.7949956%5D%2C%20%5B-23.6329058%2C%20-46.8054914%5D%2C%20%5B-23.6415515%2C%20-46.791487%5D%2C%20%5B-23.6241767%2C%20-46.7826517%5D%2C%20%5B-23.6184929%2C%20-46.7718457%5D%2C%20%5B-23.6207664%2C%20-46.7971894%5D%2C%20%5B-23.6396946%2C%20-46.7888717%5D%2C%20%5B-23.6426147%2C%20-46.8034516%5D%2C%20%5B-23.6047755%2C%20-46.7597139%5D%2C%20%5B-23.6243406%2C%20-46.807644%5D%2C%20%5B-23.6245617%2C%20-46.7788482%5D%2C%20%5B-23.6184143%2C%20-46.7731309%5D%2C%20%5B-23.6109217%2C%20-46.7648157%5D%2C%20%5B-23.6219138%2C%20-46.7957778%5D%2C%20%5B-23.6360634%2C%20-46.80168459999999%5D%2C%20%5B-23.6361747%2C%20-46.7878166%5D%2C%20%5B-23.6085239%2C%20-46.7802945%5D%2C%20%5B-23.6250699%2C%20-46.7832051%5D%2C%20%5B-23.6299015%2C%20-46.77983930000001%5D%2C%20%5B-23.6068916%2C%20-46.7811743%5D%2C%20%5B-23.622213%2C%20-46.8012902%5D%2C%20%5B-23.6308563%2C%20-46.803414%5D%2C%20%5B-23.6316294%2C%20-46.7988969%5D%2C%20%5B-23.6353461%2C%20-46.7997181%5D%2C%20%5B-23.6235211%2C%20-46.768301%5D%2C%20%5B-23.6442112%2C%20-46.7991795%5D%2C%20%5B-23.6349842%2C%20-46.79765%5D%2C%20%5B-23.6363856%2C%20-46.7999735%5D%2C%20%5B-23.6314936%2C%20-46.7779904%5D%2C%20%5B-23.6416173%2C%20-46.7938256%5D%2C%20%5B-23.6322555%2C%20-46.7796609%5D%2C%20%5B-23.6197554%2C%20-46.7977257%5D%2C%20%5B-23.6369018%2C%20-46.7842746%5D%2C%20%5B-23.6367144%2C%20-46.7937113%5D%2C%20%5B-23.6367144%2C%20-46.7937113%5D%2C%20%5B-23.6277688%2C%20-46.78674909999999%5D%2C%20%5B-23.6305779%2C%20-46.7833444%5D%2C%20%5B-23.6216447%2C%20-46.8007146%5D%2C%20%5B-23.6295307%2C%20-46.7755577%5D%2C%20%5B-23.6282165%2C%20-46.7970438%5D%2C%20%5B-23.631494%2C%20-46.78550689999999%5D%2C%20%5B-23.6405952%2C%20-46.7937557%5D%2C%20%5B-23.6249403%2C%20-46.7850701%5D%2C%20%5B-23.6166858%2C%20-46.7867685%5D%2C%20%5B-23.6372996%2C%20-46.8066296%5D%2C%20%5B-23.6326902%2C%20-46.7905112%5D%2C%20%5B-23.6362524%2C%20-46.8049978%5D%2C%20%5B-23.6244487%2C%20-46.7950947%5D%2C%20%5B-23.6109217%2C%20-46.7648157%5D%2C%20%5B-23.6263186%2C%20-46.772961%5D%2C%20%5B-23.6128993%2C%20-46.7718174%5D%2C%20%5B-23.63512%2C%20-46.79179509999999%5D%2C%20%5B-23.6295307%2C%20-46.7755577%5D%2C%20%5B-23.6229319%2C%20-46.8017456%5D%2C%20%5B-23.6287092%2C%20-46.77925159999999%5D%2C%20%5B-23.6235357%2C%20-46.77182%5D%2C%20%5B-23.6324347%2C%20-46.795357%5D%2C%20%5B-23.6232589%2C%20-46.80057859999999%5D%2C%20%5B-23.6304575%2C%20-46.7785153%5D%2C%20%5B-23.6246792%2C%20-46.7759096%5D%2C%20%5B-23.620953%2C%20-46.7815088%5D%2C%20%5B-23.6350919%2C%20-46.7859173%5D%2C%20%5B-23.6287414%2C%20-46.77585029999999%5D%2C%20%5B-23.6269504%2C%20-46.7999433%5D%2C%20%5B-23.6140792%2C%20-46.7612732%5D%2C%20%5B-23.599008%2C%20-46.7608082%5D%2C%20%5B-23.6254646%2C%20-46.7941016%5D%2C%20%5B-23.6278535%2C%20-46.7926016%5D%2C%20%5B-23.6396493%2C%20-46.7886596%5D%2C%20%5B-23.6447625%2C%20-46.7959129%5D%2C%20%5B-23.6377441%2C%20-46.7855035%5D%2C%20%5B-23.6242691%2C%20-46.7946772%5D%2C%20%5B-23.6428622%2C%20-46.8027621%5D%2C%20%5B-23.622667%2C%20-46.803076%5D%2C%20%5B-23.6254365%2C%20-46.8050495%5D%2C%20%5B-23.638201%2C%20-46.8013442%5D%2C%20%5B-23.6322886%2C%20-46.7906304%5D%2C%20%5B-23.6247269%2C%20-46.772541%5D%2C%20%5B-23.630935%2C%20-46.8097431%5D%2C%20%5B-23.6283545%2C%20-46.8063584%5D%2C%20%5B-23.629665%2C%20-46.795519%5D%2C%20%5B-23.629589%2C%20-46.7796038%5D%2C%20%5B-23.6144401%2C%20-46.7617693%5D%2C%20%5B-23.6059993%2C%20-46.7686166%5D%2C%20%5B-23.6288029%2C%20-46.77576970000001%5D%2C%20%5B-23.6308256%2C%20-46.78611859999999%5D%2C%20%5B-23.617858%2C%20-46.7709764%5D%2C%20%5B-23.6079523%2C%20-46.7549147%5D%2C%20%5B-23.6195135%2C%20-46.8045013%5D%2C%20%5B-23.6323281%2C%20-46.7933069%5D%2C%20%5B-23.619372%2C%20-46.8040795%5D%2C%20%5B-23.6233373%2C%20-46.78372539999999%5D%2C%20%5B-23.639128%2C%20-46.7941099%5D%2C%20%5B-23.6423043%2C%20-46.7902326%5D%2C%20%5B-23.6399456%2C%20-46.7960451%5D%2C%20%5B-23.6264286%2C%20-46.7714489%5D%2C%20%5B-23.6135843%2C%20-46.771839%5D%2C%20%5B-23.622174%2C%20-46.79655349999999%5D%2C%20%5B-23.6166858%2C%20-46.7867685%5D%2C%20%5B-23.6386257%2C%20-46.7914482%5D%2C%20%5B-23.6266903%2C%20-46.7942084%5D%2C%20%5B-23.6185199%2C%20-46.77140379999999%5D%2C%20%5B-23.6215307%2C%20-46.7720741%5D%2C%20%5B-23.6345334%2C%20-46.800912%5D%2C%20%5B-23.6424135%2C%20-46.79032350000001%5D%2C%20%5B-23.623412%2C%20-46.7936644%5D%2C%20%5B-23.617855%2C%20-46.7856718%5D%2C%20%5B-23.6260869%2C%20-46.7793073%5D%2C%20%5B-23.623748%2C%20-46.78884739999999%5D%2C%20%5B-23.624985%2C%20-46.7818619%5D%2C%20%5B-23.6266037%2C%20-46.7870681%5D%2C%20%5B-23.6333337%2C%20-46.8055809%5D%2C%20%5B-23.6239212%2C%20-46.7925485%5D%2C%20%5B-23.6104723%2C%20-46.7610074%5D%2C%20%5B-23.6239579%2C%20-46.7926048%5D%2C%20%5B-23.6200518%2C%20-46.7818376%5D%2C%20%5B-23.6252199%2C%20-46.7791351%5D%2C%20%5B-23.6361482%2C%20-46.7878952%5D%2C%20%5B-23.6238351%2C%20-46.77950209999999%5D%2C%20%5B-23.6290542%2C%20-46.8104485%5D%2C%20%5B-23.6360456%2C%20-46.8045609%5D%2C%20%5B-23.634363%2C%20-46.789522%5D%2C%20%5B-23.608606%2C%20-46.7661007%5D%2C%20%5B-23.6180454%2C%20-46.7718457%5D%2C%20%5B-23.6380496%2C%20-46.79961660000001%5D%2C%20%5B-23.6192016%2C%20-46.8058207%5D%2C%20%5B-23.644728%2C%20-46.7937846%5D%2C%20%5B-23.6439923%2C%20-46.79273389999999%5D%2C%20%5B-23.6169037%2C%20-46.7650295%5D%2C%20%5B-23.6320281%2C%20-46.7954306%5D%2C%20%5B-23.6364071%2C%20-46.7961002%5D%2C%20%5B-23.6045535%2C%20-46.7712156%5D%2C%20%5B-23.6220122%2C%20-46.7670318%5D%2C%20%5B-23.638338%2C%20-46.803736%5D%2C%20%5B-23.6118232%2C%20-46.759714%5D%2C%20%5B-23.6110321%2C%20-46.7974966%5D%2C%20%5B-23.6187075%2C%20-46.7772875%5D%2C%20%5B-23.6126412%2C%20-46.78666500000001%5D%2C%20%5B-23.6421261%2C%20-46.7956996%5D%2C%20%5B-23.6428274%2C%20-46.7994716%5D%2C%20%5B-23.6325444%2C%20-46.7954465%5D%2C%20%5B-23.6160233%2C%20-46.7639559%5D%2C%20%5B-23.6039823%2C%20-46.7537055%5D%2C%20%5B-23.6446568%2C%20-46.7953621%5D%2C%20%5B-23.6252993%2C%20-46.76895529999999%5D%2C%20%5B-23.6243359%2C%20-46.7744227%5D%2C%20%5B-23.6219973%2C%20-46.80076409999999%5D%2C%20%5B-23.640981%2C%20-46.7963076%5D%2C%20%5B-23.6361156%2C%20-46.8044902%5D%2C%20%5B-23.6294255%2C%20-46.811111%5D%2C%20%5B-23.6294148%2C%20-46.7794379%5D%2C%20%5B-23.6326946%2C%20-46.8006094%5D%2C%20%5B-23.6226311%2C%20-46.80106319999999%5D%2C%20%5B-23.6309621%2C%20-46.7925443%5D%2C%20%5B-23.6383392%2C%20-46.7957379%5D%2C%20%5B-23.6196872%2C%20-46.7890317%5D%2C%20%5B-23.6177711%2C%20-46.783319%5D%2C%20%5B-23.6246772%2C%20-46.7765192%5D%2C%20%5B-23.6136034%2C%20-46.766081%5D%2C%20%5B-23.6171588%2C%20-46.7665729%5D%2C%20%5B-23.6309252%2C%20-46.7959628%5D%2C%20%5B-23.6431676%2C%20-46.7962886%5D%2C%20%5B-23.6310498%2C%20-46.7842926%5D%2C%20%5B-23.6331276%2C%20-46.7879105%5D%2C%20%5B-23.6282628%2C%20-46.80490220000001%5D%2C%20%5B-23.6356484%2C%20-46.8033609%5D%2C%20%5B-23.6304734%2C%20-46.79124969999999%5D%2C%20%5B-23.6157246%2C%20-46.7650251%5D%2C%20%5B-23.6308214%2C%20-46.78748760000001%5D%2C%20%5B-23.6200215%2C%20-46.8020108%5D%2C%20%5B-23.6447058%2C%20-46.7914042%5D%2C%20%5B-23.6362308%2C%20-46.7901689%5D%2C%20%5B-23.64246%2C%20-46.7933556%5D%2C%20%5B-23.6151435%2C%20-46.78302600000001%5D%2C%20%5B-23.6252884%2C%20-46.7735797%5D%2C%20%5B-23.6127305%2C%20-46.7672917%5D%2C%20%5B-23.6299714%2C%20-46.7760416%5D%2C%20%5B-23.6288785%2C%20-46.8046081%5D%2C%20%5B-23.6413866%2C%20-46.7889251%5D%2C%20%5B-23.6102416%2C%20-46.7845744%5D%2C%20%5B-23.6282877%2C%20-46.7878265%5D%2C%20%5B-23.631746%2C%20-46.801536%5D%2C%20%5B-23.6263143%2C%20-46.778168%5D%2C%20%5B-23.6306136%2C%20-46.78036059999999%5D%2C%20%5B-23.6152576%2C%20-46.7657591%5D%2C%20%5B-23.6225151%2C%20-46.8039188%5D%2C%20%5B-23.6274981%2C%20-46.7823731%5D%2C%20%5B-23.6346044%2C%20-46.7961463%5D%2C%20%5B-23.6262683%2C%20-46.7783011%5D%2C%20%5B-23.6366081%2C%20-46.7895066%5D%2C%20%5B-23.6327077%2C%20-46.786303%5D%2C%20%5B-23.6174053%2C%20-46.7673332%5D%2C%20%5B-23.6387267%2C%20-46.7892551%5D%2C%20%5B-23.6378102%2C%20-46.8042816%5D%2C%20%5B-23.6178541%2C%20-46.7689333%5D%2C%20%5B-23.6320737%2C%20-46.7851423%5D%2C%20%5B-23.6166858%2C%20-46.7867685%5D%2C%20%5B-23.621739%2C%20-46.7729509%5D%2C%20%5B-23.621739%2C%20-46.7729509%5D%2C%20%5B-23.639795%2C%20-46.8073829%5D%2C%20%5B-23.621098%2C%20-46.7734303%5D%2C%20%5B-23.63735%2C%20-46.7866984%5D%2C%20%5B-23.6096202%2C%20-46.7657983%5D%2C%20%5B-23.6172745%2C%20-46.7650618%5D%2C%20%5B-23.6278535%2C%20-46.7926016%5D%2C%20%5B-23.6353117%2C%20-46.7852675%5D%2C%20%5B-23.626376%2C%20-46.79967329999999%5D%2C%20%5B-23.628553%2C%20-46.77557849999999%5D%2C%20%5B-23.6311403%2C%20-46.78185440000001%5D%2C%20%5B-23.6442567%2C%20-46.7990399%5D%2C%20%5B-23.6251682%2C%20-46.7940799%5D%2C%20%5B-23.628866%2C%20-46.8110254%5D%2C%20%5B-23.6370501%2C%20-46.7993141%5D%2C%20%5B-23.6443268%2C%20-46.7965526%5D%2C%20%5B-23.6143174%2C%20-46.7605971%5D%2C%20%5B-23.6235992%2C%20-46.8008769%5D%2C%20%5B-23.6192693%2C%20-46.7684521%5D%2C%20%5B-23.6087162%2C%20-46.77924669999999%5D%2C%20%5B-23.6310848%2C%20-46.795752%5D%2C%20%5B-23.6315185%2C%20-46.7970956%5D%2C%20%5B-23.6395815%2C%20-46.7912133%5D%2C%20%5B-23.6302738%2C%20-46.8103114%5D%2C%20%5B-23.6440464%2C%20-46.8006921%5D%2C%20%5B-23.6186499%2C%20-46.7815421%5D%2C%20%5B-23.6282877%2C%20-46.7878265%5D%2C%20%5B-23.6264084%2C%20-46.7757858%5D%2C%20%5B-23.6361072%2C%20-46.802672%5D%2C%20%5B-23.6237083%2C%20-46.8016224%5D%2C%20%5B-23.6294148%2C%20-46.7794379%5D%2C%20%5B-23.643325%2C%20-46.7954875%5D%2C%20%5B-23.6244269%2C%20-46.7732414%5D%2C%20%5B-23.6255551%2C%20-46.7803984%5D%2C%20%5B-23.6102931%2C%20-46.78823389999999%5D%2C%20%5B-23.6290466%2C%20-46.7859148%5D%2C%20%5B-23.6173278%2C%20-46.7777556%5D%2C%20%5B-23.6050912%2C%20-46.75349%5D%2C%20%5B-23.6266037%2C%20-46.7870681%5D%2C%20%5B-23.625587%2C%20-46.802287%5D%2C%20%5B-23.6338337%2C%20-46.7997364%5D%2C%20%5B-23.6308424%2C%20-46.7840163%5D%2C%20%5B-23.6020991%2C%20-46.7581692%5D%2C%20%5B-23.6205976%2C%20-46.8012619%5D%2C%20%5B-23.6199689%2C%20-46.7955323%5D%2C%20%5B-23.6248939%2C%20-46.79900629999999%5D%2C%20%5B-23.6407506%2C%20-46.7931448%5D%2C%20%5B-23.6164245%2C%20-46.7669408%5D%2C%20%5B-23.6208569%2C%20-46.7819674%5D%2C%20%5B-23.6199751%2C%20-46.8056346%5D%2C%20%5B-23.629599%2C%20-46.7865096%5D%2C%20%5B-23.6356443%2C%20-46.7956278%5D%2C%20%5B-23.630813%2C%20-46.7787774%5D%2C%20%5B-23.6330374%2C%20-46.8007119%5D%2C%20%5B-23.6257425%2C%20-46.78993699999999%5D%2C%20%5B-23.6251373%2C%20-46.7949259%5D%2C%20%5B-23.6385974%2C%20-46.8058258%5D%2C%20%5B-23.6201477%2C%20-46.771038%5D%2C%20%5B-23.6023992%2C%20-46.7681038%5D%2C%20%5B-23.6296714%2C%20-46.7920148%5D%2C%20%5B-23.623895%2C%20-46.7860483%5D%2C%20%5B-23.625195%2C%20-46.7958942%5D%2C%20%5B-23.6203861%2C%20-46.808038%5D%2C%20%5B-23.6257316%2C%20-46.7729136%5D%2C%20%5B-23.6114678%2C%20-46.7679629%5D%2C%20%5B-23.6228586%2C%20-46.80207499999999%5D%2C%20%5B-23.6368616%2C%20-46.7898619%5D%2C%20%5B-23.6254948%2C%20-46.7786027%5D%2C%20%5B-23.6433767%2C%20-46.8000636%5D%2C%20%5B-23.611681%2C%20-46.7981606%5D%2C%20%5B-23.6051953%2C%20-46.7620277%5D%2C%20%5B-23.6237388%2C%20-46.8014893%5D%2C%20%5B-23.6192859%2C%20-46.76658430000001%5D%2C%20%5B-23.6187203%2C%20-46.7704126%5D%2C%20%5B-23.6310269%2C%20-46.7905029%5D%2C%20%5B-23.6247438%2C%20-46.80997240000001%5D%2C%20%5B-23.6293817%2C%20-46.7980151%5D%2C%20%5B-23.6228324%2C%20-46.8032391%5D%2C%20%5B-23.6149904%2C%20-46.7663364%5D%2C%20%5B-23.6199689%2C%20-46.7955323%5D%2C%20%5B-23.6117261%2C%20-46.7842729%5D%2C%20%5B-23.6257861%2C%20-46.7922219%5D%2C%20%5B-23.6192859%2C%20-46.76658430000001%5D%2C%20%5B-23.6365138%2C%20-46.8030583%5D%2C%20%5B-23.632862%2C%20-46.7939953%5D%2C%20%5B-23.6268235%2C%20-46.7900208%5D%2C%20%5B-23.6381969%2C%20-46.8036848%5D%2C%20%5B-23.6327647%2C%20-46.780305%5D%2C%20%5B-23.6318238%2C%20-46.7902139%5D%2C%20%5B-23.6269979%2C%20-46.7802163%5D%2C%20%5B-23.6267766%2C%20-46.7941408%5D%2C%20%5B-23.6272898%2C%20-46.7935978%5D%2C%20%5B-23.6397611%2C%20-46.7894158%5D%2C%20%5B-23.6340997%2C%20-46.7958443%5D%2C%20%5B-23.6238322%2C%20-46.7723083%5D%2C%20%5B-23.6247834%2C%20-46.807528%5D%2C%20%5B-23.6390842%2C%20-46.786215%5D%2C%20%5B-23.6370043%2C%20-46.7978396%5D%2C%20%5B-23.6107925%2C%20-46.76298269999999%5D%2C%20%5B-23.6270702%2C%20-46.7856387%5D%2C%20%5B-23.6124569%2C%20-46.7877672%5D%2C%20%5B-23.6165088%2C%20-46.7828804%5D%2C%20%5B-23.6223617%2C%20-46.797442%5D%2C%20%5B-23.6230631%2C%20-46.7927238%5D%2C%20%5B-23.617855%2C%20-46.7856718%5D%2C%20%5B-23.6242631%2C%20-46.8028219%5D%2C%20%5B-23.6166858%2C%20-46.7867685%5D%2C%20%5B-23.6425654%2C%20-46.7924796%5D%2C%20%5B-23.6425654%2C%20-46.7924796%5D%2C%20%5B-23.6341256%2C%20-46.79144549999999%5D%2C%20%5B-23.6258549%2C%20-46.7902535%5D%2C%20%5B-23.6408128%2C%20-46.7894914%5D%2C%20%5B-23.6269997%2C%20-46.7773686%5D%2C%20%5B-23.6250882%2C%20-46.7900514%5D%2C%20%5B-23.6104818%2C%20-46.7544647%5D%2C%20%5B-23.6288493%2C%20-46.8144917%5D%2C%20%5B-23.617855%2C%20-46.7856718%5D%2C%20%5B-23.6276198%2C%20-46.8022779%5D%2C%20%5B-23.604384%2C%20-46.7562227%5D%2C%20%5B-23.6119456%2C%20-46.7837696%5D%2C%20%5B-23.6237092%2C%20-46.7795774%5D%2C%20%5B-23.6247269%2C%20-46.772541%5D%2C%20%5B-23.6400055%2C%20-46.79211129999999%5D%2C%20%5B-23.6179289%2C%20-46.7650949%5D%2C%20%5B-23.6173125%2C%20-46.7670414%5D%2C%20%5B-23.6198842%2C%20-46.7769908%5D%2C%20%5B-23.6134647%2C%20-46.7632602%5D%2C%20%5B-23.6385251%2C%20-46.8111943%5D%2C%20%5B-23.6259218%2C%20-46.7961393%5D%2C%20%5B-23.598466%2C%20-46.7634598%5D%2C%20%5B-23.6262548%2C%20-46.8014535%5D%2C%20%5B-23.634137%2C%20-46.7910552%5D%2C%20%5B-23.6254948%2C%20-46.7786027%5D%2C%20%5B-23.6119986%2C%20-46.7657237%5D%2C%20%5B-23.6085257%2C%20-46.7780829%5D%2C%20%5B-23.6361706%2C%20-46.7831954%5D%2C%20%5B-23.5836287%2C%20-46.7328848%5D%2C%20%5B-23.6121153%2C%20-46.7964874%5D%2C%20%5B-23.617855%2C%20-46.7856718%5D%2C%20%5B-23.6245089%2C%20-46.7810411%5D%2C%20%5B-23.6356139%2C%20-46.7840366%5D%2C%20%5B-23.629622%2C%20-46.7795344%5D%2C%20%5B-23.6203301%2C%20-46.7774793%5D%2C%20%5B-23.6453961%2C%20-46.7938322%5D%2C%20%5B-23.6372104%2C%20-46.7812807%5D%2C%20%5B-23.6324989%2C%20-46.7870213%5D%2C%20%5B-23.6299089%2C%20-46.7790658%5D%2C%20%5B-23.6398383%2C%20-46.794152%5D%2C%20%5B-23.6410511%2C%20-46.7953432%5D%2C%20%5B-23.6211544%2C%20-46.7733485%5D%2C%20%5B-23.6298468%2C%20-46.7809855%5D%2C%20%5B-23.6111495%2C%20-46.7643204%5D%2C%20%5B-23.628856%2C%20-46.7992668%5D%2C%20%5B-23.6299262%2C%20-46.78740020000001%5D%2C%20%5B-23.631386%2C%20-46.78856039999999%5D%2C%20%5B-23.6314699%2C%20-46.7928067%5D%2C%20%5B-23.6261439%2C%20-46.7891353%5D%2C%20%5B-23.6199689%2C%20-46.7955323%5D%2C%20%5B-23.6358072%2C%20-46.785042%5D%2C%20%5B-23.6191711%2C%20-46.8020088%5D%2C%20%5B-23.6057155%2C%20-46.77802639999999%5D%2C%20%5B-23.6268821%2C%20-46.7901909%5D%2C%20%5B-23.6413203%2C%20-46.7943127%5D%2C%20%5B-23.6239761%2C%20-46.8070609%5D%2C%20%5B-23.6295044%2C%20-46.7866209%5D%2C%20%5B-23.6463726%2C%20-46.7919705%5D%2C%20%5B-23.6231701%2C%20-46.7836436%5D%2C%20%5B-23.6390194%2C%20-46.8074989%5D%2C%20%5B-23.631284%2C%20-46.8025761%5D%2C%20%5B-23.630018%2C%20-46.7928252%5D%2C%20%5B-23.6063645%2C%20-46.7687594%5D%2C%20%5B-23.6378133%2C%20-46.8102345%5D%2C%20%5B-23.6325615%2C%20-46.7960785%5D%2C%20%5B-23.6177711%2C%20-46.783319%5D%2C%20%5B-23.6177711%2C%20-46.783319%5D%2C%20%5B-23.6199689%2C%20-46.7955323%5D%2C%20%5B-23.6259616%2C%20-46.7947779%5D%2C%20%5B-23.6429716%2C%20-46.79418030000001%5D%2C%20%5B-23.6022454%2C%20-46.7666421%5D%2C%20%5B-23.6417069%2C%20-46.8044767%5D%2C%20%5B-23.6303313%2C%20-46.7997108%5D%2C%20%5B-23.6232552%2C%20-46.8070594%5D%2C%20%5B-23.6101922%2C%20-46.7750493%5D%2C%20%5B-23.6248482%2C%20-46.8053436%5D%2C%20%5B-23.6310544%2C%20-46.79146979999999%5D%2C%20%5B-23.640787%2C%20-46.7949328%5D%2C%20%5B-23.6297868%2C%20-46.7798751%5D%2C%20%5B-23.6188061%2C%20-46.7680087%5D%2C%20%5B-23.6228436%2C%20-46.8011389%5D%2C%20%5B-23.6321477%2C%20-46.7800082%5D%2C%20%5B-23.610366%2C%20-46.78809440000001%5D%2C%20%5B-23.6379175%2C%20-46.8032485%5D%2C%20%5B-23.6393176%2C%20-46.7882323%5D%2C%20%5B-23.6244448%2C%20-46.7858512%5D%2C%20%5B-23.6254466%2C%20-46.7930411%5D%2C%20%5B-23.6254442%2C%20-46.7740343%5D%2C%20%5B-23.6373401%2C%20-46.7853486%5D%2C%20%5B-23.6269244%2C%20-46.79417910000001%5D%2C%20%5B-23.6393176%2C%20-46.7882323%5D%2C%20%5B-23.6312289%2C%20-46.7972721%5D%2C%20%5B-23.6443279%2C%20-46.7930761%5D%2C%20%5B-23.6196834%2C%20-46.8060611%5D%2C%20%5B-23.6312392%2C%20-46.8063827%5D%2C%20%5B-23.6087659%2C%20-46.7792659%5D%2C%20%5B-23.6230283%2C%20-46.8010254%5D%2C%20%5B-23.6377696%2C%20-46.80432829999999%5D%2C%20%5B-23.643049%2C%20-46.7981203%5D%2C%20%5B-23.6237811%2C%20-46.7846307%5D%2C%20%5B-23.6373092%2C%20-46.7829474%5D%2C%20%5B-23.6140425%2C%20-46.7623457%5D%2C%20%5B-23.6366415%2C%20-46.785991%5D%2C%20%5B-23.6313653%2C%20-46.7853802%5D%2C%20%5B-23.6119613%2C%20-46.7676125%5D%2C%20%5B-23.6322448%2C%20-46.790436%5D%2C%20%5B-23.6249006%2C%20-46.7975682%5D%2C%20%5B-23.6197033%2C%20-46.8061499%5D%2C%20%5B-23.6378088%2C%20-46.80495819999999%5D%2C%20%5B-23.628288%2C%20-46.7829693%5D%2C%20%5B-23.6240016%2C%20-46.7720064%5D%2C%20%5B-23.6261706%2C%20-46.7852858%5D%2C%20%5B-23.6247847%2C%20-46.7973569%5D%2C%20%5B-23.6363598%2C%20-46.7832339%5D%2C%20%5B-23.6346287%2C%20-46.7836827%5D%2C%20%5B-23.6321792%2C%20-46.7910323%5D%2C%20%5B-23.6342904%2C%20-46.8055074%5D%2C%20%5B-23.6173191%2C%20-46.76577%5D%2C%20%5B-23.6156849%2C%20-46.7677634%5D%2C%20%5B-23.6379247%2C%20-46.8076378%5D%2C%20%5B-23.6378305%2C%20-46.7879166%5D%2C%20%5B-23.5649803%2C%20-46.75865779999999%5D%2C%20%5B-23.6172405%2C%20-46.7697291%5D%2C%20%5B-23.6248896%2C%20-46.7934429%5D%2C%20%5B-23.6405823%2C%20-46.7899064%5D%2C%20%5B-23.6412648%2C%20-46.7912875%5D%2C%20%5B-23.6314632%2C%20-46.7944167%5D%2C%20%5B-23.6282713%2C%20-46.7791341%5D%2C%20%5B-23.6071616%2C%20-46.7736412%5D%2C%20%5B-23.6071616%2C%20-46.7736412%5D%2C%20%5B-23.6240842%2C%20-46.7804926%5D%2C%20%5B-23.6340261%2C%20-46.8053088%5D%2C%20%5B-23.6261606%2C%20-46.8061203%5D%2C%20%5B-23.6273934%2C%20-46.7897278%5D%2C%20%5B-23.6033006%2C%20-46.7790825%5D%2C%20%5B-23.6116267%2C%20-46.7909775%5D%2C%20%5B-23.6278535%2C%20-46.7926016%5D%2C%20%5B-23.6214066%2C%20-46.801552%5D%2C%20%5B-23.6186096%2C%20-46.77120559999999%5D%2C%20%5B-23.6036653%2C%20-46.7726395%5D%2C%20%5B-23.6312001%2C%20-46.7958585%5D%2C%20%5B-23.6436162%2C%20-46.79558900000001%5D%2C%20%5B-23.6113379%2C%20-46.7910051%5D%2C%20%5B-23.6413078%2C%20-46.7938983%5D%2C%20%5B-23.6352884%2C%20-46.7924893%5D%2C%20%5B-23.6257806%2C%20-46.8084176%5D%2C%20%5B-23.6247475%2C%20-46.80891310000001%5D%2C%20%5B-23.638876%2C%20-46.7996549%5D%2C%20%5B-23.632733%2C%20-46.7868541%5D%2C%20%5B-23.6278535%2C%20-46.7926016%5D%2C%20%5B-23.6307893%2C%20-46.801384%5D%2C%20%5B-23.6314079%2C%20-46.7958905%5D%2C%20%5B-23.6248734%2C%20-46.7736412%5D%2C%20%5B-23.6284294%2C%20-46.7798125%5D%2C%20%5B-23.6355413%2C%20-46.789889%5D%2C%20%5B-23.6142051%2C%20-46.7687936%5D%2C%20%5B-23.6144727%2C%20-46.7668165%5D%2C%20%5B-23.6369499%2C%20-46.7927415%5D%2C%20%5B-23.6220498%2C%20-46.798713%5D%2C%20%5B-23.6437286%2C%20-46.7930948%5D%2C%20%5B-23.6250909%2C%20-46.7789703%5D%2C%20%5B-23.6436162%2C%20-46.79558900000001%5D%2C%20%5B-23.6361729%2C%20-46.7802429%5D%2C%20%5B-23.6197364%2C%20-46.7829312%5D%2C%20%5B-23.6276448%2C%20-46.78473229999999%5D%2C%20%5B-23.6276448%2C%20-46.78473229999999%5D%2C%20%5B-23.6199689%2C%20-46.7955323%5D%2C%20%5B-23.6266037%2C%20-46.7870681%5D%2C%20%5B-23.6422471%2C%20-46.7940349%5D%2C%20%5B-23.6036653%2C%20-46.7726395%5D%2C%20%5B-23.6187203%2C%20-46.7704126%5D%2C%20%5B-23.6189615%2C%20-46.7735473%5D%2C%20%5B-23.633041%2C%20-46.80244159999999%5D%2C%20%5B-23.6171594%2C%20-46.76716529999999%5D%2C%20%5B-23.6440541%2C%20-46.8038663%5D%2C%20%5B-23.6364766%2C%20-46.7809435%5D%2C%20%5B-23.626208%2C%20-46.7981163%5D%2C%20%5B-23.6364798%2C%20-46.7978769%5D%2C%20%5B-23.6129099%2C%20-46.78848319999999%5D%2C%20%5B-23.6329326%2C%20-46.7944083%5D%2C%20%5B-23.6043672%2C%20-46.7712321%5D%2C%20%5B-23.6190824%2C%20-46.7716821%5D%2C%20%5B-23.6256136%2C%20-46.7939133%5D%2C%20%5B-23.6359271%2C%20-46.8045527%5D%2C%20%5B-23.6420565%2C%20-46.7853417%5D%2C%20%5B-23.6345493%2C%20-46.8038242%5D%2C%20%5B-23.6231613%2C%20-46.7806274%5D%2C%20%5B-23.6290173%2C%20-46.8016679%5D%2C%20%5B-23.6406383%2C%20-46.8047698%5D%2C%20%5B-23.6406383%2C%20-46.8047698%5D%2C%20%5B-23.6193141%2C%20-46.8012334%5D%2C%20%5B-23.6371896%2C%20-46.8040984%5D%2C%20%5B-23.6097568%2C%20-46.7569836%5D%2C%20%5B-23.6118232%2C%20-46.759714%5D%2C%20%5B-23.6035587%2C%20-46.7792069%5D%2C%20%5B-23.630688%2C%20-46.7956835%5D%2C%20%5B-23.6207792%2C%20-46.8030489%5D%2C%20%5B-23.6262217%2C%20-46.7971097%5D%2C%20%5B-23.6360505%2C%20-46.7870834%5D%2C%20%5B-23.6120809%2C%20-46.7967235%5D%2C%20%5B-23.6260423%2C%20-46.8028976%5D%2C%20%5B-23.6343718%2C%20-46.8014817%5D%2C%20%5B-23.5659738%2C%20-46.6715277%5D%2C%20%5B-23.637039%2C%20-46.7931762%5D%2C%20%5B-23.6407094%2C%20-46.7978363%5D%2C%20%5B-23.6049049%2C%20-46.7712239%5D%2C%20%5B-23.6092278%2C%20-46.7784643%5D%2C%20%5B-23.5981882%2C%20-46.7598495%5D%2C%20%5B-23.6045309%2C%20-46.7747614%5D%2C%20%5B-23.6239616%2C%20-46.79509609999999%5D%2C%20%5B-23.628978%2C%20-46.8117968%5D%2C%20%5B-23.6365432%2C%20-46.7979526%5D%2C%20%5B-23.6336485%2C%20-46.80502509999999%5D%2C%20%5B-23.6315973%2C%20-46.7919602%5D%2C%20%5B-23.6436488%2C%20-46.8030374%5D%2C%20%5B-23.6355455%2C%20-46.78356770000001%5D%2C%20%5B-23.6262339%2C%20-46.79024649999999%5D%2C%20%5B-23.6366139%2C%20-46.8094493%5D%2C%20%5B-23.6421254%2C%20-46.7989799%5D%2C%20%5B-23.6344953%2C%20-46.7987384%5D%2C%20%5B-23.6438674%2C%20-46.7949122%5D%2C%20%5B-23.6438674%2C%20-46.7949122%5D%2C%20%5B-23.6216149%2C%20-46.7729353%5D%2C%20%5B-23.6352556%2C%20-46.7981126%5D%2C%20%5B-23.6283921%2C%20-46.7917011%5D%2C%20%5B-23.6426569%2C%20-46.7947003%5D%2C%20%5B-23.6447213%2C%20-46.7903792%5D%2C%20%5B-23.6249979%2C%20-46.795983%5D%2C%20%5B-23.640989%2C%20-46.7963145%5D%2C%20%5B-23.6323324%2C%20-46.7947271%5D%2C%20%5B-23.6389313%2C%20-46.7934971%5D%2C%20%5B-23.6224362%2C%20-46.7965648%5D%2C%20%5B-23.6324939%2C%20-46.7853505%5D%2C%20%5B-23.6249795%2C%20-46.7859183%5D%2C%20%5B-23.6311403%2C%20-46.78185440000001%5D%2C%20%5B-23.633133%2C%20-46.8015833%5D%2C%20%5B-23.6135577%2C%20-46.7728089%5D%2C%20%5B-23.6029376%2C%20-46.76566469999999%5D%2C%20%5B-23.6224952%2C%20-46.7988586%5D%2C%20%5B-23.6235822%2C%20-46.7903545%5D%2C%20%5B-23.6226619%2C%20-46.7998814%5D%2C%20%5B-23.6218109%2C%20-46.8039457%5D%2C%20%5B-23.628648%2C%20-46.78837710000001%5D%2C%20%5B-23.6316407%2C%20-46.7853672%5D%2C%20%5B-23.6178501%2C%20-46.7748392%5D%2C%20%5B-23.6171588%2C%20-46.7665729%5D%2C%20%5B-23.635246%2C%20-46.8061693%5D%2C%20%5B-23.637679%2C%20-46.8021462%5D%2C%20%5B-23.6259014%2C%20-46.7880627%5D%2C%20%5B-23.6221736%2C%20-46.800061%5D%2C%20%5B-23.6201454%2C%20-46.8029738%5D%2C%20%5B-23.5986517%2C%20-46.76383300000001%5D%2C%20%5B-23.6315589%2C%20-46.7957213%5D%2C%20%5B-23.6307305%2C%20-46.7802095%5D%2C%20%5B-23.6304395%2C%20-46.77958779999999%5D%2C%20%5B-23.6363592%2C%20-46.783269%5D%2C%20%5B-23.6438367%2C%20-46.796933%5D%2C%20%5B-23.6413269%2C%20-46.7900724%5D%2C%20%5B-23.6255693%2C%20-46.7811664%5D%2C%20%5B-23.6229655%2C%20-46.7899006%5D%2C%20%5B-23.6067696%2C%20-46.7707437%5D%2C%20%5B-23.6008332%2C%20-46.7704283%5D%2C%20%5B-23.6298133%2C%20-46.7793715%5D%2C%20%5B-23.6358081%2C%20-46.7791246%5D%2C%20%5B-23.6304883%2C%20-46.7904389%5D%2C%20%5B-23.6377334%2C%20-46.79621299999999%5D%2C%20%5B-23.6297874%2C%20-46.7916481%5D%2C%20%5B-23.6240499%2C%20-46.8073702%5D%2C%20%5B-23.6369095%2C%20-46.79758409999999%5D%2C%20%5B-23.6328241%2C%20-46.7932147%5D%2C%20%5B-23.6367993%2C%20-46.8028057%5D%2C%20%5B-23.6333695%2C%20-46.79590169999999%5D%2C%20%5B-23.6279339%2C%20-46.7727955%5D%2C%20%5B-23.6279339%2C%20-46.7727955%5D%2C%20%5B-23.6029788%2C%20-46.7581928%5D%2C%20%5B-23.6301314%2C%20-46.7970166%5D%2C%20%5B-23.62769%2C%20-46.7870146%5D%2C%20%5B-23.6299019%2C%20-46.7847557%5D%2C%20%5B-23.6305047%2C%20-46.794263%5D%2C%20%5B-23.6097568%2C%20-46.7569836%5D%2C%20%5B-23.6409312%2C%20-46.7934425%5D%2C%20%5B-23.6275984%2C%20-46.7721931%5D%2C%20%5B-23.608606%2C%20-46.7661007%5D%2C%20%5B-23.6438117%2C%20-46.7901199%5D%2C%20%5B-23.6285484%2C%20-46.8017818%5D%2C%20%5B-23.6446005%2C%20-46.7953019%5D%2C%20%5B-23.6236253%2C%20-46.7933496%5D%2C%20%5B-23.6444717%2C%20-46.79912359999999%5D%2C%20%5B-23.6253995%2C%20-46.8046847%5D%2C%20%5B-23.6031017%2C%20-46.7566856%5D%2C%20%5B-23.6382231%2C%20-46.7995788%5D%2C%20%5B-23.6400884%2C%20-46.79527299999999%5D%2C%20%5B-23.6223884%2C%20-46.772167%5D%2C%20%5B-23.6141494%2C%20-46.7613846%5D%2C%20%5B-23.6127305%2C%20-46.7672917%5D%2C%20%5B-23.6374537%2C%20-46.79583479999999%5D%2C%20%5B-23.6411395%2C%20-46.7893219%5D%2C%20%5B-23.6302966%2C%20-46.8091813%5D%2C%20%5B-23.6090503%2C%20-46.7804602%5D%2C%20%5B-23.6101442%2C%20-46.7636024%5D%2C%20%5B-23.6454473%2C%20-46.8006478%5D%2C%20%5B-23.6401361%2C%20-46.78926879999999%5D%2C%20%5B-23.6175959%2C%20-46.80319350000001%5D%2C%20%5B-23.6177711%2C%20-46.783319%5D%2C%20%5B-23.6084981%2C%20-46.7785682%5D%2C%20%5B-23.6385367%2C%20-46.7875158%5D%2C%20%5B-23.6435341%2C%20-46.8012501%5D%2C%20%5B-23.6454473%2C%20-46.8006478%5D%2C%20%5B-23.6373813%2C%20-46.8067545%5D%2C%20%5B-23.6426108%2C%20-46.7967875%5D%2C%20%5B-23.6371212%2C%20-46.8096731%5D%2C%20%5B-23.64238%2C%20-46.7935905%5D%2C%20%5B-23.6164071%2C%20-46.7647668%5D%2C%20%5B-23.6198525%2C%20-46.7909571%5D%2C%20%5B-23.6177711%2C%20-46.783319%5D%2C%20%5B-23.6300183%2C%20-46.78044570000001%5D%2C%20%5B-23.6257793%2C%20-46.7701192%5D%2C%20%5B-23.6124515%2C%20-46.7605437%5D%2C%20%5B-23.6124515%2C%20-46.7605437%5D%2C%20%5B-23.6265616%2C%20-46.7731181%5D%2C%20%5B-23.6331446%2C%20-46.8052941%5D%2C%20%5B-23.6387909%2C%20-46.7884588%5D%2C%20%5B-23.6119799%2C%20-46.7836471%5D%2C%20%5B-23.6317167%2C%20-46.7906173%5D%2C%20%5B-23.6169037%2C%20-46.7650295%5D%2C%20%5B-23.6310011%2C%20-46.7895111%5D%2C%20%5B-23.6041753%2C%20-46.7355385%5D%2C%20%5B-23.6047234%2C%20-46.77442019999999%5D%2C%20%5B-23.6399394%2C%20-46.7960704%5D%2C%20%5B-23.6350298%2C%20-46.7945404%5D%2C%20%5B-23.6080302%2C%20-46.7722203%5D%2C%20%5B-23.6093034%2C%20-46.7807024%5D%2C%20%5B-23.6219143%2C%20-46.7816313%5D%2C%20%5B-23.6110536%2C%20-46.7872795%5D%2C%20%5B-23.6111632%2C%20-46.78724769999999%5D%2C%20%5B-23.6102416%2C%20-46.7845744%5D%2C%20%5B-23.6123776%2C%20-46.7711176%5D%2C%20%5B-23.5974999%2C%20-46.7607224%5D%2C%20%5B-23.6362889%2C%20-46.8018162%5D%2C%20%5B-23.6265261%2C%20-46.8094147%5D%2C%20%5B-23.6279086%2C%20-46.7745484%5D%2C%20%5B-23.6409346%2C%20-46.8023302%5D%2C%20%5B-23.6317167%2C%20-46.7906173%5D%2C%20%5B-23.6398383%2C%20-46.794152%5D%2C%20%5B-23.6347463%2C%20-46.7906976%5D%2C%20%5B-23.6347463%2C%20-46.7906976%5D%2C%20%5B-23.6223299%2C%20-46.7933218%5D%2C%20%5B-23.6355518%2C%20-46.8030424%5D%2C%20%5B-23.6178754%2C%20-46.7771057%5D%2C%20%5B-23.6253111%2C%20-46.7849492%5D%2C%20%5B-23.6236098%2C%20-46.7722091%5D%2C%20%5B-23.6316624%2C%20-46.7861364%5D%2C%20%5B-23.6279598%2C%20-46.8112191%5D%2C%20%5B-23.630258%2C%20-46.7959601%5D%2C%20%5B-23.6296758%2C%20-46.7919795%5D%2C%20%5B-23.619056%2C%20-46.7723453%5D%2C%20%5B-23.6197267%2C%20-46.7987011%5D%2C%20%5B-23.6262643%2C%20-46.7979348%5D%2C%20%5B-23.6348965%2C%20-46.7992441%5D%2C%20%5B-23.6280766%2C%20-46.8062129%5D%2C%20%5B-23.6294647%2C%20-46.8016921%5D%2C%20%5B-23.6211043%2C%20-46.7734506%5D%2C%20%5B-23.6177711%2C%20-46.783319%5D%2C%20%5B-23.6235399%2C%20-46.8045622%5D%2C%20%5B-23.6422391%2C%20-46.804223%5D%2C%20%5B-23.6044519%2C%20-46.7705417%5D%2C%20%5B-23.6014429%2C%20-46.7599108%5D%2C%20%5B-23.6229812%2C%20-46.783423%5D%2C%20%5B-23.6182246%2C%20-46.8015068%5D%2C%20%5B-23.6250882%2C%20-46.7879773%5D%2C%20%5B-23.6202476%2C%20-46.803238%5D%2C%20%5B-23.6266283%2C%20-46.78136019999999%5D%2C%20%5B-23.6407287%2C%20-46.7965931%5D%2C%20%5B-23.6324318%2C%20-46.7951163%5D%2C%20%5B-23.6286153%2C%20-46.7970544%5D%2C%20%5B-23.6262476%2C%20-46.79478539999999%5D%2C%20%5B-23.6117702%2C%20-46.7581669%5D%2C%20%5B-23.6316741%2C%20-46.7802861%5D%2C%20%5B-23.6189615%2C%20-46.7735473%5D%2C%20%5B-23.6344406%2C%20-46.7978582%5D%2C%20%5B-23.6354506%2C%20-46.80098659999999%5D%2C%20%5B-23.6220122%2C%20-46.7670318%5D%2C%20%5B-23.6621027%2C%20-46.81094590000001%5D%2C%20%5B-23.6321477%2C%20-46.7800082%5D%2C%20%5B-23.6294319%2C%20-46.7801263%5D%2C%20%5B-23.632038%2C%20-46.8011389%5D%2C%20%5B-23.6204504%2C%20-46.8030961%5D%2C%20%5B-23.6345547%2C%20-46.80570590000001%5D%2C%20%5B-23.6244934%2C%20-46.80533560000001%5D%2C%20%5B-23.6394971%2C%20-46.7893069%5D%2C%20%5B-23.6336741%2C%20-46.8022619%5D%2C%20%5B-23.6287707%2C%20-46.8095276%5D%2C%20%5B-23.6050081%2C%20-46.753484%5D%2C%20%5B-23.6265325%2C%20-46.8075521%5D%2C%20%5B-23.6267047%2C%20-46.7706962%5D%2C%20%5B-23.5836314%2C%20-46.7330067%5D%2C%20%5B-23.633969%2C%20-46.7998208%5D%2C%20%5B-23.6410574%2C%20-46.7915366%5D%2C%20%5B-23.6127305%2C%20-46.7672917%5D%2C%20%5B-23.631121%2C%20-46.7957901%5D%2C%20%5B-23.6439518%2C%20-46.803736%5D%2C%20%5B-23.6233966%2C%20-46.7842298%5D%2C%20%5B-23.6188095%2C%20-46.7906825%5D%2C%20%5B-23.6207176%2C%20-46.80096080000001%5D%2C%20%5B-23.6217256%2C%20-46.7807648%5D%2C%20%5B-23.6277076%2C%20-46.8116202%5D%2C%20%5B-23.6086529%2C%20-46.7794007%5D%2C%20%5B-23.631497%2C%20-46.79123550000001%5D%2C%20%5B-23.6017904%2C%20-46.7615059%5D%2C%20%5B-23.6084627%2C%20-46.76843359999999%5D%2C%20%5B-23.6262631%2C%20-46.7894253%5D%2C%20%5B-23.6267694%2C%20-46.7871779%5D%2C%20%5B-23.6311403%2C%20-46.78185440000001%5D%2C%20%5B-23.6285475%2C%20-46.7878681%5D%2C%20%5B-23.6266037%2C%20-46.7870681%5D%2C%20%5B-23.631796%2C%20-46.8027977%5D%2C%20%5B-23.6458963%2C%20-46.7916746%5D%2C%20%5B-23.6340888%2C%20-46.8057508%5D%2C%20%5B-23.6105233%2C%20-46.7752068%5D%2C%20%5B-23.6055067%2C%20-46.7589013%5D%2C%20%5B-23.6177693%2C%20-46.7777687%5D%2C%20%5B-23.5970567%2C%20-46.76119019999999%5D%2C%20%5B-23.6331866%2C%20-46.7841697%5D%2C%20%5B-23.6252003%2C%20-46.7858882%5D%2C%20%5B-23.6352834%2C%20-46.7839239%5D%2C%20%5B-23.6017803%2C%20-46.7586854%5D%2C%20%5B-23.6289746%2C%20-46.79825330000001%5D%2C%20%5B-23.6298468%2C%20-46.7809855%5D%2C%20%5B-23.6269979%2C%20-46.7802163%5D%2C%20%5B-23.6178501%2C%20-46.7748392%5D%2C%20%5B-23.6394573%2C%20-46.8104615%5D%2C%20%5B-23.6394573%2C%20-46.8104615%5D%2C%20%5B-23.6189734%2C%20-46.78310159999999%5D%2C%20%5B-23.6278086%2C%20-46.788516%5D%2C%20%5B-23.6296049%2C%20-46.8113263%5D%2C%20%5B-23.625182%2C%20-46.8063573%5D%2C%20%5B-23.6196834%2C%20-46.8060611%5D%2C%20%5B-23.6234785%2C%20-46.8070423%5D%2C%20%5B-23.6383921%2C%20-46.8023397%5D%2C%20%5B-23.6005953%2C%20-46.76839469999999%5D%2C%20%5B-23.6305008%2C%20-46.7812164%5D%2C%20%5B-23.625236%2C%20-46.7765421%5D%2C%20%5B-23.6306542%2C%20-46.7847361%5D%2C%20%5B-23.605742%2C%20-46.7689075%5D%2C%20%5B-23.6048843%2C%20-46.7757959%5D%2C%20%5B-23.6207554%2C%20-46.80213060000001%5D%2C%20%5B-23.6310009%2C%20-46.8005719%5D%2C%20%5B-23.6213052%2C%20-46.7733833%5D%2C%20%5B-23.6190128%2C%20-46.7715849%5D%2C%20%5B-23.6345662%2C%20-46.7929513%5D%2C%20%5B-23.6394286%2C%20-46.78893910000001%5D%2C%20%5B-23.6247071%2C%20-46.77645099999999%5D%2C%20%5B-23.6099507%2C%20-46.7804209%5D%2C%20%5B-23.6187499%2C%20-46.7769677%5D%2C%20%5B-23.6371621%2C%20-46.7989324%5D%2C%20%5B-23.6318378%2C%20-46.78719%5D%2C%20%5B-23.633681%2C%20-46.7948049%5D%2C%20%5B-23.6030121%2C%20-46.7513812%5D%2C%20%5B-23.632844%2C%20-46.7929324%5D%2C%20%5B-23.6432208%2C%20-46.792277%5D%2C%20%5B-23.6432208%2C%20-46.792277%5D%2C%20%5B-23.6373806%2C%20-46.7887655%5D%2C%20%5B-23.6380384%2C%20-46.7920691%5D%2C%20%5B-23.626854%2C%20-46.795381%5D%2C%20%5B-23.6431878%2C%20-46.7992624%5D%2C%20%5B-23.6199689%2C%20-46.7955323%5D%2C%20%5B-23.6299516%2C%20-46.7878183%5D%2C%20%5B-23.6245298%2C%20-46.8009852%5D%2C%20%5B-23.6166858%2C%20-46.7867685%5D%2C%20%5B-23.6306775%2C%20-46.7934902%5D%2C%20%5B-23.6045432%2C%20-46.7843631%5D%2C%20%5B-23.6266139%2C%20-46.7913678%5D%2C%20%5B-23.6199381%2C%20-46.8048833%5D%2C%20%5B-23.6103856%2C%20-46.7802222%5D%2C%20%5B-23.6275588%2C%20-46.7818018%5D%2C%20%5B-23.6329391%2C%20-46.794965%5D%2C%20%5B-23.6273934%2C%20-46.7897278%5D%2C%20%5B-23.6262744%2C%20-46.7751363%5D%2C%20%5B-23.6284534%2C%20-46.8118755%5D%2C%20%5B-23.6208477%2C%20-46.78140030000001%5D%2C%20%5B-23.6366193%2C%20-46.802869%5D%2C%20%5B-23.6364711%2C%20-46.7976374%5D%2C%20%5B-23.6249346%2C%20-46.8095458%5D%2C%20%5B-23.6184287%2C%20-46.78054969999999%5D%2C%20%5B-23.6180454%2C%20-46.7718457%5D%2C%20%5B-23.6098154%2C%20-46.7681525%5D%2C%20%5B-23.6210694%2C%20-46.771662%5D%2C%20%5B-23.6276986%2C%20-46.8069745%5D%2C%20%5B-23.6041768%2C%20-46.7789619%5D%2C%20%5B-23.6184256%2C%20-46.7818247%5D%2C%20%5B-23.6177711%2C%20-46.783319%5D%2C%20%5B-23.6111495%2C%20-46.7643204%5D%2C%20%5B-23.6329616%2C%20-46.7859535%5D%2C%20%5B-23.64385%2C%20-46.7967673%5D%2C%20%5B-23.6407531%2C%20-46.78964269999999%5D%2C%20%5B-23.6266954%2C%20-46.7817273%5D%2C%20%5B-23.6389512%2C%20-46.7868927%5D%2C%20%5B-23.6389512%2C%20-46.7868927%5D%2C%20%5B-23.6374595%2C%20-46.7880377%5D%2C%20%5B-23.6216399%2C%20-46.8073782%5D%2C%20%5B-23.6023992%2C%20-46.7681038%5D%2C%20%5B-23.6262762%2C%20-46.7865422%5D%2C%20%5B-23.6028423%2C%20-46.7559066%5D%2C%20%5B-23.6276858%2C%20-46.7799542%5D%2C%20%5B-23.6314632%2C%20-46.7944167%5D%2C%20%5B-23.6348528%2C%20-46.8058253%5D%2C%20%5B-23.6084627%2C%20-46.76843359999999%5D%2C%20%5B-23.6426383%2C%20-46.8036381%5D%2C%20%5B-23.6125636%2C%20-46.7886406%5D%2C%20%5B-23.643015%2C%20-46.7999003%5D%2C%20%5B-23.6142453%2C%20-46.7674214%5D%2C%20%5B-23.6292521%2C%20-46.78684459999999%5D%2C%20%5B-23.6361027%2C%20-46.8017262%5D%2C%20%5B-23.6189701%2C%20-46.8039524%5D%2C%20%5B-23.6119613%2C%20-46.7676125%5D%2C%20%5B-23.6185199%2C%20-46.77140379999999%5D%2C%20%5B-23.6181751%2C%20-46.7639864%5D%2C%20%5B-23.6256033%2C%20-46.7882629%5D%2C%20%5B-23.6256033%2C%20-46.7882629%5D%2C%20%5B-23.6359701%2C%20-46.8102167%5D%2C%20%5B-23.6290943%2C%20-46.8047384%5D%2C%20%5B-23.6255114%2C%20-46.7986945%5D%2C%20%5B-23.6250532%2C%20-46.8032474%5D%2C%20%5B-23.6316989%2C%20-46.7934904%5D%2C%20%5B-23.6227511%2C%20-46.78218529999999%5D%2C%20%5B-23.6407531%2C%20-46.78964269999999%5D%2C%20%5B-23.6247291%2C%20-46.7737148%5D%2C%20%5B-23.6311403%2C%20-46.78185440000001%5D%2C%20%5B-23.62358%2C%20-46.7922608%5D%2C%20%5B-23.6265596%2C%20-46.7796364%5D%2C%20%5B-23.6167833%2C%20-46.7650735%5D%2C%20%5B-23.6236135%2C%20-46.805446%5D%2C%20%5B-23.6254685%2C%20-46.7834633%5D%2C%20%5B-23.6261225%2C%20-46.7883196%5D%2C%20%5B-23.6362436%2C%20-46.7963755%5D%2C%20%5B-23.6355105%2C%20-46.80454779999999%5D%2C%20%5B-23.6219128%2C%20-46.7934902%5D%2C%20%5B-23.6117822%2C%20-46.785807%5D%2C%20%5B-23.6229615%2C%20-46.7968559%5D%2C%20%5B-23.6117822%2C%20-46.785807%5D%2C%20%5B-23.6254848%2C%20-46.793522%5D%2C%20%5B-23.6271929%2C%20-46.8050899%5D%2C%20%5B-23.6257661%2C%20-46.7776708%5D%2C%20%5B-23.6341441%2C%20-46.8021099%5D%2C%20%5B-23.6268924%2C%20-46.79202069999999%5D%2C%20%5B-23.6419638%2C%20-46.79108859999999%5D%2C%20%5B-23.6265089%2C%20-46.79028270000001%5D%2C%20%5B-23.6303258%2C%20-46.77904729999999%5D%2C%20%5B-23.6323966%2C%20-46.7795534%5D%2C%20%5B-23.6621027%2C%20-46.81094590000001%5D%2C%20%5B-23.6372114%2C%20-46.7893354%5D%2C%20%5B-23.6410972%2C%20-46.8007465%5D%2C%20%5B-23.6322292%2C%20-46.779961%5D%2C%20%5B-23.6314912%2C%20-46.8049101%5D%2C%20%5B-23.6127305%2C%20-46.7672917%5D%2C%20%5B-23.6446021%2C%20-46.7927717%5D%2C%20%5B-23.6043392%2C%20-46.7564396%5D%2C%20%5B-23.6094146%2C%20-46.7776564%5D%2C%20%5B-23.6406906%2C%20-46.79378879999999%5D%2C%20%5B-23.6166858%2C%20-46.7867685%5D%2C%20%5B-23.6340261%2C%20-46.8053088%5D%2C%20%5B-23.6228206%2C%20-46.8032024%5D%2C%20%5B-23.6352702%2C%20-46.794149%5D%2C%20%5B-23.642255%2C%20-46.7913568%5D%2C%20%5B-23.6274241%2C%20-46.7873461%5D%2C%20%5B-23.6373806%2C%20-46.7887655%5D%2C%20%5B-23.6244744%2C%20-46.79190440000001%5D%2C%20%5B-23.6424923%2C%20-46.79757439999999%5D%2C%20%5B-23.6349783%2C%20-46.7942218%5D%2C%20%5B-23.6141103%2C%20-46.7642257%5D%2C%20%5B-23.6432344%2C%20-46.791519%5D%2C%20%5B-23.6348007%2C%20-46.7928222%5D%2C%20%5B-23.6287969%2C%20-46.8064246%5D%2C%20%5B-23.6146042%2C%20-46.7691662%5D%2C%20%5B-23.6146042%2C%20-46.7691662%5D%2C%20%5B-23.619501%2C%20-46.78497300000001%5D%2C%20%5B-23.6232776%2C%20-46.7929186%5D%2C%20%5B-23.621745%2C%20-46.771109%5D%2C%20%5B-23.6231693%2C%20-46.80051479999999%5D%2C%20%5B-23.6275909%2C%20-46.813015%5D%2C%20%5B-23.6451642%2C%20-46.7953762%5D%2C%20%5B-23.6408446%2C%20-46.80011%5D%2C%20%5B-23.6119613%2C%20-46.7676125%5D%2C%20%5B-23.6347409%2C%20-46.790076%5D%2C%20%5B-23.6229587%2C%20-46.7801149%5D%2C%20%5B-23.6166858%2C%20-46.7867685%5D%2C%20%5B-23.6250537%2C%20-46.7787065%5D%2C%20%5B-23.6252704%2C%20-46.7900807%5D%2C%20%5B-23.6280874%2C%20-46.8062809%5D%2C%20%5B-23.6231958%2C%20-46.7697328%5D%2C%20%5B-23.6309114%2C%20-46.790276%5D%2C%20%5B-23.6419583%2C%20-46.79906279999999%5D%2C%20%5B-23.6434315%2C%20-46.7978329%5D%2C%20%5B-23.6425877%2C%20-46.7923652%5D%2C%20%5B-23.640502%2C%20-46.7929043%5D%2C%20%5B-23.6119613%2C%20-46.7676125%5D%2C%20%5B-23.6178501%2C%20-46.7748392%5D%2C%20%5B-23.6119613%2C%20-46.7676125%5D%2C%20%5B-23.624696%2C%20-46.7757203%5D%2C%20%5B-23.6435146%2C%20-46.7929916%5D%2C%20%5B-23.6214984%2C%20-46.80570669999999%5D%2C%20%5B-23.625127%2C%20-46.7897469%5D%2C%20%5B-23.6272135%2C%20-46.7807198%5D%2C%20%5B-23.6102416%2C%20-46.7845744%5D%2C%20%5B-23.6218062%2C%20-46.7803553%5D%2C%20%5B-23.6157%2C%20-46.7789902%5D%2C%20%5B-23.6236015%2C%20-46.8035327%5D%2C%20%5B-23.6355935%2C%20-46.7832958%5D%2C%20%5B-23.6268206%2C%20-46.8060747%5D%2C%20%5B-23.6021964%2C%20-46.7568844%5D%2C%20%5B-23.6220351%2C%20-46.8040146%5D%2C%20%5B-23.6383745%2C%20-46.7981795%5D%2C%20%5B-23.6261494%2C%20-46.79478710000001%5D%2C%20%5B-23.6261976%2C%20-46.77672279999999%5D%2C%20%5B-23.6120456%2C%20-46.7609378%5D%2C%20%5B-23.6196625%2C%20-46.7725805%5D%2C%20%5B-23.6364047%2C%20-46.7886596%5D%2C%20%5B-23.6266588%2C%20-46.79892359999999%5D%2C%20%5B-23.6189615%2C%20-46.7735473%5D%2C%20%5B-23.6293421%2C%20-46.7874181%5D%2C%20%5B-23.6146042%2C%20-46.7691662%5D%2C%20%5B-23.6002985%2C%20-46.7673101%5D%2C%20%5B-23.6293293%2C%20-46.8062023%5D%2C%20%5B-23.6406233%2C%20-46.7904466%5D%2C%20%5B-23.6180364%2C%20-46.7668798%5D%2C%20%5B-23.6331851%2C%20-46.8006861%5D%2C%20%5B-23.6278535%2C%20-46.7926016%5D%2C%20%5B-23.6302048%2C%20-46.80582889999999%5D%2C%20%5B-23.6353282%2C%20-46.8045093%5D%2C%20%5B-23.6353272%2C%20-46.7848292%5D%2C%20%5B-23.6185865%2C%20-46.7666839%5D%5D%3B%0A%20%20%20%20%20%20%20%20%20%20%20%20%20%20%20%20var%20cluster%20%3D%20L.markerClusterGroup%28%7B%7D%29%3B%0A%0A%20%20%20%20%20%20%20%20%20%20%20%20%20%20%20%20for%20%28var%20i%20%3D%200%3B%20i%20%3C%20data.length%3B%20i%2B%2B%29%20%7B%0A%20%20%20%20%20%20%20%20%20%20%20%20%20%20%20%20%20%20%20%20var%20row%20%3D%20data%5Bi%5D%3B%0A%20%20%20%20%20%20%20%20%20%20%20%20%20%20%20%20%20%20%20%20var%20marker%20%3D%20callback%28row%29%3B%0A%20%20%20%20%20%20%20%20%20%20%20%20%20%20%20%20%20%20%20%20marker.addTo%28cluster%29%3B%0A%20%20%20%20%20%20%20%20%20%20%20%20%20%20%20%20%7D%0A%0A%20%20%20%20%20%20%20%20%20%20%20%20%20%20%20%20cluster.addTo%28map_bb93505c135c46a2bc618588563c786e%29%3B%0A%20%20%20%20%20%20%20%20%20%20%20%20%20%20%20%20return%20cluster%3B%0A%20%20%20%20%20%20%20%20%20%20%20%20%7D%29%28%29%3B%0A%20%20%20%20%20%20%20%20%0A%20%20%20%20%0A%20%20%20%20%20%20%20%20%20%20%20%20var%20circle_marker_7f64884d114f413184f270d8dc5e23cf%20%3D%20L.circleMarker%28%0A%20%20%20%20%20%20%20%20%20%20%20%20%20%20%20%20%5B-23.628995357229115%2C%20-46.80304992140114%5D%2C%0A%20%20%20%20%20%20%20%20%20%20%20%20%20%20%20%20%7B%22bubblingMouseEvents%22%3A%20true%2C%20%22color%22%3A%20%22%23a62e2e%22%2C%20%22dashArray%22%3A%20null%2C%20%22dashOffset%22%3A%20null%2C%20%22fill%22%3A%20true%2C%20%22fillColor%22%3A%20%22%23a62e2e%22%2C%20%22fillOpacity%22%3A%200.2%2C%20%22fillRule%22%3A%20%22evenodd%22%2C%20%22lineCap%22%3A%20%22round%22%2C%20%22lineJoin%22%3A%20%22round%22%2C%20%22opacity%22%3A%201.0%2C%20%22radius%22%3A%20180%2C%20%22stroke%22%3A%20true%2C%20%22weight%22%3A%203%7D%0A%20%20%20%20%20%20%20%20%20%20%20%20%29.addTo%28map_bb93505c135c46a2bc618588563c786e%29%3B%0A%20%20%20%20%20%20%20%20%0A%20%20%20%20%0A%20%20%20%20%20%20%20%20%20%20%20%20var%20circle_marker_9b7bd6b002f049dda1eea5c6b20ba5d3%20%3D%20L.circleMarker%28%0A%20%20%20%20%20%20%20%20%20%20%20%20%20%20%20%20%5B-23.623286580850486%2C%20-46.78112923285396%5D%2C%0A%20%20%20%20%20%20%20%20%20%20%20%20%20%20%20%20%7B%22bubblingMouseEvents%22%3A%20true%2C%20%22color%22%3A%20%22%233186cc%22%2C%20%22dashArray%22%3A%20null%2C%20%22dashOffset%22%3A%20null%2C%20%22fill%22%3A%20true%2C%20%22fillColor%22%3A%20%22%233186cc%22%2C%20%22fillOpacity%22%3A%200.2%2C%20%22fillRule%22%3A%20%22evenodd%22%2C%20%22lineCap%22%3A%20%22round%22%2C%20%22lineJoin%22%3A%20%22round%22%2C%20%22opacity%22%3A%201.0%2C%20%22radius%22%3A%2080%2C%20%22stroke%22%3A%20true%2C%20%22weight%22%3A%203%7D%0A%20%20%20%20%20%20%20%20%20%20%20%20%29.addTo%28map_bb93505c135c46a2bc618588563c786e%29%3B%0A%20%20%20%20%20%20%20%20%0A%3C/script%3E onload=\"this.contentDocument.open();this.contentDocument.write(    decodeURIComponent(this.getAttribute('data-html')));this.contentDocument.close();\" allowfullscreen webkitallowfullscreen mozallowfullscreen></iframe></div></div>"
      ],
      "text/plain": [
       "<folium.folium.Map at 0x2424d1b6fd0>"
      ]
     },
     "execution_count": 20,
     "metadata": {},
     "output_type": "execute_result"
    }
   ],
   "source": [
    "df_bercario_escola = df.set_index('etapa')\n",
    "df_bercario_escola = df_bercario_escola.loc['BERÇÁRIO']\n",
    "\n",
    "df_bercario_escola = df_bercario_escola[['escola', 'latitude_escola', 'longitude_escola']]\n",
    "\n",
    "df_bercario_escola = df_bercario_escola.drop_duplicates()\n",
    "\n",
    "bercario_lat = df_bercario_escola.latitude_escola.values\n",
    "bercario_lon = df_bercario_escola.longitude_escola.values\n",
    "bercario_esc = df_bercario_escola.escola.values\n",
    "\n",
    "df_bercario_aluno = df.set_index('etapa')\n",
    "df_bercario_aluno = df_bercario_aluno.loc['BERÇÁRIO']\n",
    "\n",
    "ts_bercario = folium.Map(location=[-23.61957807914073, -46.78906836802145],\n",
    "                 zoom_start=14, zoom_control=False)\n",
    "\n",
    "\n",
    "for latitude, longitude, escola in zip(bercario_lat, bercario_lon, bercario_esc):\n",
    "    folium.Marker(location=[float(latitude), float(longitude)], popup=escola, icon=folium.Icon(color='blue',\n",
    "                                                                                              #,icon_color='blue'\n",
    "                                                                                              )).add_to(ts_bercario)\n",
    "    \n",
    "ts_bercario.add_child(FastMarkerCluster(df_bercario_aluno[['latitude', 'longitude']]))\n",
    "\n",
    "folium.vector_layers.CircleMarker(\n",
    "    location=[float('-23.628995357229115'), float('-46.80304992140114')],\n",
    "    radius=180,\n",
    "    color='#a62e2e',\n",
    "    fill=True,\n",
    "    fill_color='#a62e2e'\n",
    ").add_to(ts_bercario)\n",
    "\n",
    "\n",
    "folium.vector_layers.CircleMarker(\n",
    "    location=[float('-23.623286580850486'), float('-46.78112923285396')],\n",
    "    radius=80,\n",
    "    color='#3186cc',\n",
    "    fill=True,\n",
    "    fill_color='#3186cc'\n",
    ").add_to(ts_bercario)\n",
    "\n",
    "\n",
    "\n",
    "\n",
    "ts_bercario\n",
    "\n",
    "#ts_bercario.save('mapa_bercario.html')\n",
    "#driver.get('file://'+path+'/mapa_bercario.html')\n",
    "#sleep(4)\n",
    "#driver.save_screenshot('mapa_bercario.png')"
   ]
  },
  {
   "cell_type": "markdown",
   "id": "ab79b53c-e769-4f41-bd55-eb4bb7c35221",
   "metadata": {},
   "source": [
    "<center><img width=\"80%\" src=\"C:\\\\Users\\\\danilo.mario\\\\Desktop\\\\estudo\\\\mapa_bercario.png\"></center>"
   ]
  },
  {
   "cell_type": "markdown",
   "id": "e93039a8-9634-4b2b-bb2c-d79217a78762",
   "metadata": {},
   "source": [
    "<center><img width=\"80%\" src=\"mapa_bercario.png\"></center>"
   ]
  }
 ],
 "metadata": {
  "kernelspec": {
   "display_name": "Python 3 (ipykernel)",
   "language": "python",
   "name": "python3"
  },
  "language_info": {
   "codemirror_mode": {
    "name": "ipython",
    "version": 3
   },
   "file_extension": ".py",
   "mimetype": "text/x-python",
   "name": "python",
   "nbconvert_exporter": "python",
   "pygments_lexer": "ipython3",
   "version": "3.9.7"
  }
 },
 "nbformat": 4,
 "nbformat_minor": 5
}
